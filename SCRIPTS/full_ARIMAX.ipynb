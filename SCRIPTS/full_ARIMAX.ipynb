{
  "nbformat": 4,
  "nbformat_minor": 0,
  "metadata": {
    "colab": {
      "provenance": []
    },
    "kernelspec": {
      "name": "python3",
      "display_name": "Python 3"
    },
    "language_info": {
      "name": "python"
    }
  },
  "cells": [
    {
      "cell_type": "code",
      "execution_count": 1,
      "metadata": {
        "id": "fy0UcjwqW5ne"
      },
      "outputs": [],
      "source": [
        "import pandas as pd\n",
        "\n",
        "df = pd.read_csv(\"/content/interpolated_education_dataset.csv\")\n",
        "\n",
        "# target countries\n",
        "target_countries = [\"Bangladesh\", \"United States\", \"Niger\", \"South Korea\", \"Norway\"]\n",
        "\n",
        "# filtering and sorting\n",
        "df_filtered = df[df[\"Country\"].isin(target_countries)].sort_values(by=[\"Country\", \"Year\"]).reset_index(drop=True)\n"
      ]
    },
    {
      "cell_type": "code",
      "source": [
        "# ADF TEST\n",
        "from statsmodels.tsa.stattools import adfuller\n",
        "import pandas as pd\n",
        "import numpy as np\n",
        "\n",
        "fertility_series = df_filtered[\"Fertility_Rate\"]\n",
        "result = adfuller(fertility_series)\n",
        "print('ADF Statistic: %f' % result[0])\n",
        "print('p-value: %f' % result[1])\n",
        "print('Critical Values:')\n",
        "for key, value in result[4].items():\n",
        "\tprint('\\t%s: %.3f' % (key, value))"
      ],
      "metadata": {
        "colab": {
          "base_uri": "https://localhost:8080/"
        },
        "id": "vtrwoLA1XpXL",
        "outputId": "83efc43f-05ae-4392-c3a6-5482accab6d3"
      },
      "execution_count": 2,
      "outputs": [
        {
          "output_type": "stream",
          "name": "stdout",
          "text": [
            "ADF Statistic: -1.773415\n",
            "p-value: 0.393738\n",
            "Critical Values:\n",
            "\t1%: -3.461\n",
            "\t5%: -2.875\n",
            "\t10%: -2.574\n"
          ]
        }
      ]
    },
    {
      "cell_type": "code",
      "source": [
        "# Needs differencing, so need to do ARIMAX(1,1,1)\n",
        "from statsmodels.tsa.statespace.sarimax import SARIMAX\n",
        "\n",
        "exog_vars = [\"GDP_Per_Capita\", \"Homicide_Rate\", \"Avg_Yrs_Education\", \"Infant_Mortality\", \"Life_Expectancy\"]\n",
        "models = {}\n",
        "forecasts = []\n",
        "\n",
        "# forecasting\n",
        "future_years = list(range(df_filtered[\"Year\"].max() + 1, df_filtered[\"Year\"].max() + 11))\n",
        "\n",
        "# ARIMAX for each country\n",
        "for country in target_countries:\n",
        "    cdf = df_filtered[df_filtered[\"Country\"] == country].dropna(subset=exog_vars)\n",
        "\n",
        "    if len(cdf) > 10:\n",
        "        model = SARIMAX(\n",
        "            cdf[\"Fertility_Rate\"],\n",
        "            order=(1,1,1),\n",
        "            exog=cdf[exog_vars],\n",
        "            enforce_stationarity=False,\n",
        "            enforce_invertibility=False\n",
        "        )\n",
        "        results = model.fit(disp=False)\n",
        "        models[country] = results\n",
        "\n",
        "        # using the last row's exog values for forecasting\n",
        "        future_exog = pd.DataFrame([cdf[exog_vars].iloc[-1].values] * 10, columns=exog_vars)\n",
        "        forecast = results.get_forecast(steps=10, exog=future_exog)\n",
        "\n",
        "        forecast_df = pd.DataFrame({\n",
        "            \"Country\": country,\n",
        "            \"Year\": future_years,\n",
        "            \"ARIMAX_Forecast\": forecast.predicted_mean\n",
        "        })\n",
        "        forecasts.append(forecast_df)\n",
        "\n",
        "# combining all forecast data\n",
        "arimax_forecasts = pd.concat(forecasts, ignore_index=True)"
      ],
      "metadata": {
        "colab": {
          "base_uri": "https://localhost:8080/"
        },
        "id": "Pd0riYrkYN8Y",
        "outputId": "a2c02442-574e-4b9f-cb33-cd9578b7bf12"
      },
      "execution_count": 3,
      "outputs": [
        {
          "output_type": "stream",
          "name": "stderr",
          "text": [
            "/usr/local/lib/python3.11/dist-packages/statsmodels/tsa/base/tsa_model.py:473: ValueWarning: An unsupported index was provided. As a result, forecasts cannot be generated. To use the model for forecasting, use one of the supported classes of index.\n",
            "  self._init_dates(dates, freq)\n",
            "/usr/local/lib/python3.11/dist-packages/statsmodels/tsa/base/tsa_model.py:473: ValueWarning: An unsupported index was provided. As a result, forecasts cannot be generated. To use the model for forecasting, use one of the supported classes of index.\n",
            "  self._init_dates(dates, freq)\n",
            "/usr/local/lib/python3.11/dist-packages/statsmodels/tsa/base/tsa_model.py:837: ValueWarning: No supported index is available. Prediction results will be given with an integer index beginning at `start`.\n",
            "  return get_prediction_index(\n",
            "/usr/local/lib/python3.11/dist-packages/statsmodels/tsa/base/tsa_model.py:837: FutureWarning: No supported index is available. In the next version, calling this method in a model without a supported index will result in an exception.\n",
            "  return get_prediction_index(\n",
            "/usr/local/lib/python3.11/dist-packages/statsmodels/tsa/base/tsa_model.py:473: ValueWarning: An unsupported index was provided. As a result, forecasts cannot be generated. To use the model for forecasting, use one of the supported classes of index.\n",
            "  self._init_dates(dates, freq)\n",
            "/usr/local/lib/python3.11/dist-packages/statsmodels/tsa/base/tsa_model.py:473: ValueWarning: An unsupported index was provided. As a result, forecasts cannot be generated. To use the model for forecasting, use one of the supported classes of index.\n",
            "  self._init_dates(dates, freq)\n",
            "/usr/local/lib/python3.11/dist-packages/statsmodels/tsa/base/tsa_model.py:837: ValueWarning: No supported index is available. Prediction results will be given with an integer index beginning at `start`.\n",
            "  return get_prediction_index(\n",
            "/usr/local/lib/python3.11/dist-packages/statsmodels/tsa/base/tsa_model.py:837: FutureWarning: No supported index is available. In the next version, calling this method in a model without a supported index will result in an exception.\n",
            "  return get_prediction_index(\n",
            "/usr/local/lib/python3.11/dist-packages/statsmodels/tsa/base/tsa_model.py:473: ValueWarning: An unsupported index was provided. As a result, forecasts cannot be generated. To use the model for forecasting, use one of the supported classes of index.\n",
            "  self._init_dates(dates, freq)\n",
            "/usr/local/lib/python3.11/dist-packages/statsmodels/tsa/base/tsa_model.py:473: ValueWarning: An unsupported index was provided. As a result, forecasts cannot be generated. To use the model for forecasting, use one of the supported classes of index.\n",
            "  self._init_dates(dates, freq)\n",
            "/usr/local/lib/python3.11/dist-packages/statsmodels/base/model.py:607: ConvergenceWarning: Maximum Likelihood optimization failed to converge. Check mle_retvals\n",
            "  warnings.warn(\"Maximum Likelihood optimization failed to \"\n",
            "/usr/local/lib/python3.11/dist-packages/statsmodels/tsa/base/tsa_model.py:837: ValueWarning: No supported index is available. Prediction results will be given with an integer index beginning at `start`.\n",
            "  return get_prediction_index(\n",
            "/usr/local/lib/python3.11/dist-packages/statsmodels/tsa/base/tsa_model.py:837: FutureWarning: No supported index is available. In the next version, calling this method in a model without a supported index will result in an exception.\n",
            "  return get_prediction_index(\n",
            "/usr/local/lib/python3.11/dist-packages/statsmodels/tsa/base/tsa_model.py:473: ValueWarning: An unsupported index was provided. As a result, forecasts cannot be generated. To use the model for forecasting, use one of the supported classes of index.\n",
            "  self._init_dates(dates, freq)\n",
            "/usr/local/lib/python3.11/dist-packages/statsmodels/tsa/base/tsa_model.py:473: ValueWarning: An unsupported index was provided. As a result, forecasts cannot be generated. To use the model for forecasting, use one of the supported classes of index.\n",
            "  self._init_dates(dates, freq)\n",
            "/usr/local/lib/python3.11/dist-packages/statsmodels/base/model.py:607: ConvergenceWarning: Maximum Likelihood optimization failed to converge. Check mle_retvals\n",
            "  warnings.warn(\"Maximum Likelihood optimization failed to \"\n",
            "/usr/local/lib/python3.11/dist-packages/statsmodels/tsa/base/tsa_model.py:837: ValueWarning: No supported index is available. Prediction results will be given with an integer index beginning at `start`.\n",
            "  return get_prediction_index(\n",
            "/usr/local/lib/python3.11/dist-packages/statsmodels/tsa/base/tsa_model.py:837: FutureWarning: No supported index is available. In the next version, calling this method in a model without a supported index will result in an exception.\n",
            "  return get_prediction_index(\n"
          ]
        }
      ]
    },
    {
      "cell_type": "code",
      "source": [
        "# UN projection dataset\n",
        "un_data = pd.read_csv(\"/content/fertility-rate-with-projections.csv\")\n",
        "\n",
        "# clean and rename the columns for ease\n",
        "un_data = un_data.rename(columns={\n",
        "    \"Entity\": \"Country\",\n",
        "    \"Fertility rate - Sex: all - Age: all - Variant: estimates\": \"UN_Estimates\",\n",
        "    \"Fertility rate - Sex: all - Age: all - Variant: medium\": \"UN_Projections\"\n",
        "})\n",
        "\n",
        "# filtering relevant countries and years\n",
        "future_years = list(range(2024, 2034))\n",
        "un_projection_df = un_data[\n",
        "    (un_data[\"Country\"].isin(target_countries)) &\n",
        "    (un_data[\"Year\"].isin(future_years))\n",
        "][[\"Country\", \"Year\", \"UN_Projections\"]].dropna()"
      ],
      "metadata": {
        "id": "tqMvdSx0Y9wS"
      },
      "execution_count": 6,
      "outputs": []
    },
    {
      "cell_type": "code",
      "source": [
        "# merge ARIMAX and UN projections\n",
        "comparison_df = pd.merge(arimax_forecasts, un_projection_df, on=[\"Country\", \"Year\"], how=\"inner\")\n",
        "\n",
        "# Calculate forecast difference\n",
        "comparison_df[\"Difference\"] = comparison_df[\"ARIMAX_Forecast\"] - comparison_df[\"UN_Projections\"]\n",
        "\n",
        "# errors\n",
        "from sklearn.metrics import mean_absolute_error, mean_squared_error\n",
        "import numpy as np\n",
        "\n",
        "# overall metrics\n",
        "y_true = comparison_df[\"UN_Projections\"]\n",
        "y_pred = comparison_df[\"ARIMAX_Forecast\"]\n",
        "\n",
        "mae = mean_absolute_error(y_true, y_pred)\n",
        "rmse = np.sqrt(mean_squared_error(y_true, y_pred))\n",
        "\n",
        "print(f\"MAE: {mae:.4f}\")\n",
        "print(f\"RMSE: {rmse:.4f}\")\n"
      ],
      "metadata": {
        "colab": {
          "base_uri": "https://localhost:8080/"
        },
        "id": "sBui5CipZXvv",
        "outputId": "161af936-8407-45d6-91d6-b257f951e94b"
      },
      "execution_count": 12,
      "outputs": [
        {
          "output_type": "stream",
          "name": "stdout",
          "text": [
            "MAE: 0.2722\n",
            "RMSE: 0.4579\n"
          ]
        }
      ]
    }
  ]
}