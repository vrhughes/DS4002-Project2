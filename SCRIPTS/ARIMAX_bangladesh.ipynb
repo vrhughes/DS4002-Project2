{
  "nbformat": 4,
  "nbformat_minor": 0,
  "metadata": {
    "colab": {
      "provenance": []
    },
    "kernelspec": {
      "name": "python3",
      "display_name": "Python 3"
    },
    "language_info": {
      "name": "python"
    }
  },
  "cells": [
    {
      "cell_type": "code",
      "execution_count": 3,
      "metadata": {
        "colab": {
          "base_uri": "https://localhost:8080/"
        },
        "id": "TQbejd6Xfigc",
        "outputId": "d3325c11-26ce-4731-fdf5-67bf09560882"
      },
      "outputs": [
        {
          "output_type": "stream",
          "name": "stdout",
          "text": [
            "      Country  Year  Fertility_Rate  GDP_Per_Capita  Homicide_Rate  \\\n",
            "0  Bangladesh  1980           6.326      206.075714       1.672038   \n",
            "1  Bangladesh  1981           6.237      224.241392       1.829637   \n",
            "2  Bangladesh  1982           6.118      199.595945       1.987816   \n",
            "3  Bangladesh  1983           5.906      184.706773       2.170414   \n",
            "4  Bangladesh  1984           5.732      193.435021       2.442022   \n",
            "\n",
            "   Avg_Yrs_Education  Infant_Mortality  Life_Expectancy  \n",
            "0              1.310         13.789642          52.2778  \n",
            "1              1.436         13.472392          52.6383  \n",
            "2              1.562         13.139923          53.0119  \n",
            "3              1.688         12.788301          53.4409  \n",
            "4              1.814         12.423361          53.8259  \n"
          ]
        },
        {
          "output_type": "stream",
          "name": "stderr",
          "text": [
            "<ipython-input-3-8ae67daee4a8>:9: FutureWarning: DataFrame.interpolate with object dtype is deprecated and will raise in a future version. Call obj.infer_objects(copy=False) before interpolating instead.\n",
            "  df_bangladesh_interpolated = df_bangladesh.sort_values(\"Year\").interpolate(method='linear')\n"
          ]
        }
      ],
      "source": [
        "# interpolate data\n",
        "import pandas as pd\n",
        "\n",
        "file_path = \"/content/interpolated_education_dataset.csv\"\n",
        "df = pd.read_csv(file_path)\n",
        "\n",
        "df_bangladesh = df[df[\"Country\"] == \"Bangladesh\"].copy()\n",
        "\n",
        "# sort by Year and interpolate missing values linearly\n",
        "df_bangladesh_interpolated = df_bangladesh.sort_values(\"Year\").interpolate(method='linear')\n",
        "\n",
        "# review cleaned data\n",
        "print(df_bangladesh_interpolated.head())"
      ]
    },
    {
      "cell_type": "code",
      "source": [
        "# ADF TEST\n",
        "from statsmodels.tsa.stattools import adfuller\n",
        "import pandas as pd\n",
        "import numpy as np\n",
        "\n",
        "fertility_series = df_bangladesh_interpolated[\"Fertility_Rate\"]\n",
        "result = adfuller(fertility_series)\n",
        "print('ADF Statistic: %f' % result[0])\n",
        "print('p-value: %f' % result[1])\n",
        "print('Critical Values:')\n",
        "for key, value in result[4].items():\n",
        "\tprint('\\t%s: %.3f' % (key, value))"
      ],
      "metadata": {
        "colab": {
          "base_uri": "https://localhost:8080/"
        },
        "id": "0jNIGE-Qiz9F",
        "outputId": "e7c6d4ab-f5ad-4ba0-e135-27b8a0ee4f60"
      },
      "execution_count": 6,
      "outputs": [
        {
          "output_type": "stream",
          "name": "stdout",
          "text": [
            "ADF Statistic: -4.625900\n",
            "p-value: 0.000116\n",
            "Critical Values:\n",
            "\t1%: -3.646\n",
            "\t5%: -2.954\n",
            "\t10%: -2.616\n"
          ]
        }
      ]
    },
    {
      "cell_type": "code",
      "source": [
        "# Data is stationary, so goog to run ARIMAX using a (1,0,1) fit\n",
        "from statsmodels.tsa.statespace.sarimax import SARIMAX\n",
        "\n",
        "# define the target and exogenous variables\n",
        "y = df_bangladesh_interpolated['Fertility_Rate']\n",
        "X = df_bangladesh_interpolated[['GDP_Per_Capita', 'Avg_Yrs_Education',\n",
        "                                'Life_Expectancy', 'Infant_Mortality',\n",
        "                                'Homicide_Rate']]\n",
        "\n",
        "# ARIMAX(1,0,1)\n",
        "model = SARIMAX(\n",
        "    endog=y,\n",
        "    exog=X,\n",
        "    order=(1, 0, 1),\n",
        "    enforce_stationarity=True,\n",
        "    enforce_invertibility=True\n",
        ")\n",
        "\n",
        "results = model.fit(disp=False)\n",
        "\n",
        "# show results\n",
        "print(results.summary())"
      ],
      "metadata": {
        "colab": {
          "base_uri": "https://localhost:8080/"
        },
        "id": "_JpEdtwin-kd",
        "outputId": "56719f55-a36b-468b-a46b-5600665dc226"
      },
      "execution_count": 10,
      "outputs": [
        {
          "output_type": "stream",
          "name": "stdout",
          "text": [
            "                               SARIMAX Results                                \n",
            "==============================================================================\n",
            "Dep. Variable:         Fertility_Rate   No. Observations:                   44\n",
            "Model:               SARIMAX(1, 0, 1)   Log Likelihood                  78.657\n",
            "Date:                Sun, 23 Mar 2025   AIC                           -141.314\n",
            "Time:                        20:11:32   BIC                           -127.040\n",
            "Sample:                             0   HQIC                          -136.020\n",
            "                                 - 44                                         \n",
            "Covariance Type:                  opg                                         \n",
            "=====================================================================================\n",
            "                        coef    std err          z      P>|z|      [0.025      0.975]\n",
            "-------------------------------------------------------------------------------------\n",
            "GDP_Per_Capita    -4.148e-05      0.000     -0.384      0.701      -0.000       0.000\n",
            "Avg_Yrs_Education     0.0249      0.053      0.467      0.641      -0.080       0.129\n",
            "Life_Expectancy       0.0246      0.007      3.450      0.001       0.011       0.039\n",
            "Infant_Mortality      0.4101      0.029     14.331      0.000       0.354       0.466\n",
            "Homicide_Rate        -0.3775      0.110     -3.443      0.001      -0.592      -0.163\n",
            "ar.L1                 0.7924      0.149      5.335      0.000       0.501       1.084\n",
            "ma.L1                 0.5088      0.189      2.698      0.007       0.139       0.878\n",
            "sigma2                0.0017      0.001      3.325      0.001       0.001       0.003\n",
            "===================================================================================\n",
            "Ljung-Box (L1) (Q):                   1.70   Jarque-Bera (JB):                 0.90\n",
            "Prob(Q):                              0.19   Prob(JB):                         0.64\n",
            "Heteroskedasticity (H):               0.61   Skew:                            -0.15\n",
            "Prob(H) (two-sided):                  0.34   Kurtosis:                         3.64\n",
            "===================================================================================\n",
            "\n",
            "Warnings:\n",
            "[1] Covariance matrix calculated using the outer product of gradients (complex-step).\n"
          ]
        },
        {
          "output_type": "stream",
          "name": "stderr",
          "text": [
            "/usr/local/lib/python3.11/dist-packages/statsmodels/base/model.py:607: ConvergenceWarning: Maximum Likelihood optimization failed to converge. Check mle_retvals\n",
            "  warnings.warn(\"Maximum Likelihood optimization failed to \"\n"
          ]
        }
      ]
    }
  ]
}