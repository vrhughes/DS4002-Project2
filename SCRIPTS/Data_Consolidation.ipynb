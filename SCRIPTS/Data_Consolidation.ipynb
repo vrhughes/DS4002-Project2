{
  "cells": [
    {
      "cell_type": "code",
      "execution_count": 1,
      "metadata": {
        "vscode": {
          "languageId": "plaintext"
        },
        "id": "2RWGt9wbtk1-"
      },
      "outputs": [],
      "source": [
        "# Importing necessary packages\n",
        "import pandas as pd\n",
        "import numpy as np\n",
        "import re"
      ]
    },
    {
      "cell_type": "code",
      "source": [
        "# CLoning the repo\n",
        "! git clone https://github.com/vrhughes/DS4002-Project2"
      ],
      "metadata": {
        "id": "0DI-hbmYtwt7",
        "outputId": "e5824142-bed3-4c6b-839e-d266bf180254",
        "colab": {
          "base_uri": "https://localhost:8080/"
        }
      },
      "execution_count": 2,
      "outputs": [
        {
          "output_type": "stream",
          "name": "stdout",
          "text": [
            "Cloning into 'DS4002-Project2'...\n",
            "remote: Enumerating objects: 63, done.\u001b[K\n",
            "remote: Counting objects: 100% (63/63), done.\u001b[K\n",
            "remote: Compressing objects: 100% (58/58), done.\u001b[K\n",
            "remote: Total 63 (delta 13), reused 0 (delta 0), pack-reused 0 (from 0)\u001b[K\n",
            "Receiving objects: 100% (63/63), 133.64 KiB | 5.81 MiB/s, done.\n",
            "Resolving deltas: 100% (13/13), done.\n"
          ]
        }
      ]
    },
    {
      "cell_type": "code",
      "source": [
        "# Reading in the data\n",
        "# Variables\n",
        "gdp_df = pd.read_csv('/content/DS4002-Project2/OUTPUTS/gdp_df.csv')\n",
        "homicides_unclean_df = pd.read_csv('/content/DS4002-Project2/DATA/Homicides-Per-100000.csv')\n",
        "edu_attainment_df = pd.read_csv('/content/DS4002-Project2/DATA/attainment_and_fertility.csv')\n",
        "infant_mortality_df = pd.read_csv('/content/DS4002-Project2/DATA/infant_mortality.csv')\n",
        "life_expectancy_df = pd.read_csv('/content/DS4002-Project2/DATA/life-expectancy.csv')\n",
        "\n",
        "# Outcome\n",
        "fert_rate_df = pd.read_csv('/content/DS4002-Project2/DATA/children-born-per-woman.csv')"
      ],
      "metadata": {
        "id": "Oigltcpat3By"
      },
      "execution_count": 3,
      "outputs": []
    },
    {
      "cell_type": "markdown",
      "source": [],
      "metadata": {
        "id": "l4H-pVmlzKAR"
      }
    },
    {
      "cell_type": "code",
      "source": [
        "# Reorganizing homicides_df\n",
        "causes = [\"Police conflict and executions\", \" Conflict and terrorism\", \"Interpersonal violence\"]\n",
        "\n",
        "# Summing types of homicide data together into cleaned column\n",
        "homicides_df = (homicides_unclean_df[homicides_unclean_df[\"cause\"].isin(causes)].groupby([\"year\", \"location\"], as_index = False).agg({\"val\": \"sum\"}))\n",
        "\n",
        "homicides_df[\"cause\"] = \"Homicide\"\n",
        "\n",
        "# Renaming columns\n",
        "homicides_df.rename(columns={\"year\": \"Year\", \"location\": \"Country\", \"val\": \"Homicide_Rate\", \"cause\": \"Cause\"}, inplace=True)\n",
        "\n",
        "# Renaming countries\n",
        "countries = {\"Bolivarian Republic of Venezuela\" : \"Venezuela\", \"Federal Democratic Republic of Ethiopia\": \"Ethiopia\",\n",
        "             \"Islamic Republic of Iran\": \"Iran\", \"Kingdom of Norway\": \"Norway\", \"United States of America\": \"United States\",\n",
        "             \"Global\": \"World\", \"People's Republic of Bangladesh\": \"Bangladesh\", \"Republic of Chile\": \"Chile\",\n",
        "             \"Republic of Korea\": \"South Korea\", \"Republic of Latvia\": \"Latvia\", \"Republic of Namibia\": \"Namibia\",\n",
        "             \"Republic of Nauru\": \"Nauru\", \"Republic of Nicaragua\": \"Nicaragua\", \"Republic of Panama\": \"Panama\",\n",
        "             \"Republic of the Niger\": \"Niger\"}\n",
        "\n",
        "homicides_df[\"Country\"] = homicides_df[\"Country\"].replace(countries)\n",
        "\n",
        "# See what it looks like now\n",
        "homicides_df.head()"
      ],
      "metadata": {
        "id": "RhvqpZ6DwmeT",
        "outputId": "425aae6b-ddf2-457c-b241-e8f7e11297d8",
        "colab": {
          "base_uri": "https://localhost:8080/",
          "height": 206
        }
      },
      "execution_count": 9,
      "outputs": [
        {
          "output_type": "execute_result",
          "data": {
            "text/plain": [
              "   Year    Country  Homicide_Rate     Cause\n",
              "0  1980  Venezuela      13.108855  Homicide\n",
              "1  1980   Ethiopia      18.061589  Homicide\n",
              "2  1980      World       6.474866  Homicide\n",
              "3  1980       Iran       3.444738  Homicide\n",
              "4  1980     Norway       1.364974  Homicide"
            ],
            "text/html": [
              "\n",
              "  <div id=\"df-067532e8-0152-4b6a-b47a-aa30a5111311\" class=\"colab-df-container\">\n",
              "    <div>\n",
              "<style scoped>\n",
              "    .dataframe tbody tr th:only-of-type {\n",
              "        vertical-align: middle;\n",
              "    }\n",
              "\n",
              "    .dataframe tbody tr th {\n",
              "        vertical-align: top;\n",
              "    }\n",
              "\n",
              "    .dataframe thead th {\n",
              "        text-align: right;\n",
              "    }\n",
              "</style>\n",
              "<table border=\"1\" class=\"dataframe\">\n",
              "  <thead>\n",
              "    <tr style=\"text-align: right;\">\n",
              "      <th></th>\n",
              "      <th>Year</th>\n",
              "      <th>Country</th>\n",
              "      <th>Homicide_Rate</th>\n",
              "      <th>Cause</th>\n",
              "    </tr>\n",
              "  </thead>\n",
              "  <tbody>\n",
              "    <tr>\n",
              "      <th>0</th>\n",
              "      <td>1980</td>\n",
              "      <td>Venezuela</td>\n",
              "      <td>13.108855</td>\n",
              "      <td>Homicide</td>\n",
              "    </tr>\n",
              "    <tr>\n",
              "      <th>1</th>\n",
              "      <td>1980</td>\n",
              "      <td>Ethiopia</td>\n",
              "      <td>18.061589</td>\n",
              "      <td>Homicide</td>\n",
              "    </tr>\n",
              "    <tr>\n",
              "      <th>2</th>\n",
              "      <td>1980</td>\n",
              "      <td>World</td>\n",
              "      <td>6.474866</td>\n",
              "      <td>Homicide</td>\n",
              "    </tr>\n",
              "    <tr>\n",
              "      <th>3</th>\n",
              "      <td>1980</td>\n",
              "      <td>Iran</td>\n",
              "      <td>3.444738</td>\n",
              "      <td>Homicide</td>\n",
              "    </tr>\n",
              "    <tr>\n",
              "      <th>4</th>\n",
              "      <td>1980</td>\n",
              "      <td>Norway</td>\n",
              "      <td>1.364974</td>\n",
              "      <td>Homicide</td>\n",
              "    </tr>\n",
              "  </tbody>\n",
              "</table>\n",
              "</div>\n",
              "    <div class=\"colab-df-buttons\">\n",
              "\n",
              "  <div class=\"colab-df-container\">\n",
              "    <button class=\"colab-df-convert\" onclick=\"convertToInteractive('df-067532e8-0152-4b6a-b47a-aa30a5111311')\"\n",
              "            title=\"Convert this dataframe to an interactive table.\"\n",
              "            style=\"display:none;\">\n",
              "\n",
              "  <svg xmlns=\"http://www.w3.org/2000/svg\" height=\"24px\" viewBox=\"0 -960 960 960\">\n",
              "    <path d=\"M120-120v-720h720v720H120Zm60-500h600v-160H180v160Zm220 220h160v-160H400v160Zm0 220h160v-160H400v160ZM180-400h160v-160H180v160Zm440 0h160v-160H620v160ZM180-180h160v-160H180v160Zm440 0h160v-160H620v160Z\"/>\n",
              "  </svg>\n",
              "    </button>\n",
              "\n",
              "  <style>\n",
              "    .colab-df-container {\n",
              "      display:flex;\n",
              "      gap: 12px;\n",
              "    }\n",
              "\n",
              "    .colab-df-convert {\n",
              "      background-color: #E8F0FE;\n",
              "      border: none;\n",
              "      border-radius: 50%;\n",
              "      cursor: pointer;\n",
              "      display: none;\n",
              "      fill: #1967D2;\n",
              "      height: 32px;\n",
              "      padding: 0 0 0 0;\n",
              "      width: 32px;\n",
              "    }\n",
              "\n",
              "    .colab-df-convert:hover {\n",
              "      background-color: #E2EBFA;\n",
              "      box-shadow: 0px 1px 2px rgba(60, 64, 67, 0.3), 0px 1px 3px 1px rgba(60, 64, 67, 0.15);\n",
              "      fill: #174EA6;\n",
              "    }\n",
              "\n",
              "    .colab-df-buttons div {\n",
              "      margin-bottom: 4px;\n",
              "    }\n",
              "\n",
              "    [theme=dark] .colab-df-convert {\n",
              "      background-color: #3B4455;\n",
              "      fill: #D2E3FC;\n",
              "    }\n",
              "\n",
              "    [theme=dark] .colab-df-convert:hover {\n",
              "      background-color: #434B5C;\n",
              "      box-shadow: 0px 1px 3px 1px rgba(0, 0, 0, 0.15);\n",
              "      filter: drop-shadow(0px 1px 2px rgba(0, 0, 0, 0.3));\n",
              "      fill: #FFFFFF;\n",
              "    }\n",
              "  </style>\n",
              "\n",
              "    <script>\n",
              "      const buttonEl =\n",
              "        document.querySelector('#df-067532e8-0152-4b6a-b47a-aa30a5111311 button.colab-df-convert');\n",
              "      buttonEl.style.display =\n",
              "        google.colab.kernel.accessAllowed ? 'block' : 'none';\n",
              "\n",
              "      async function convertToInteractive(key) {\n",
              "        const element = document.querySelector('#df-067532e8-0152-4b6a-b47a-aa30a5111311');\n",
              "        const dataTable =\n",
              "          await google.colab.kernel.invokeFunction('convertToInteractive',\n",
              "                                                    [key], {});\n",
              "        if (!dataTable) return;\n",
              "\n",
              "        const docLinkHtml = 'Like what you see? Visit the ' +\n",
              "          '<a target=\"_blank\" href=https://colab.research.google.com/notebooks/data_table.ipynb>data table notebook</a>'\n",
              "          + ' to learn more about interactive tables.';\n",
              "        element.innerHTML = '';\n",
              "        dataTable['output_type'] = 'display_data';\n",
              "        await google.colab.output.renderOutput(dataTable, element);\n",
              "        const docLink = document.createElement('div');\n",
              "        docLink.innerHTML = docLinkHtml;\n",
              "        element.appendChild(docLink);\n",
              "      }\n",
              "    </script>\n",
              "  </div>\n",
              "\n",
              "\n",
              "<div id=\"df-c4d37bbe-3161-4e66-97a7-c8cb610cdffd\">\n",
              "  <button class=\"colab-df-quickchart\" onclick=\"quickchart('df-c4d37bbe-3161-4e66-97a7-c8cb610cdffd')\"\n",
              "            title=\"Suggest charts\"\n",
              "            style=\"display:none;\">\n",
              "\n",
              "<svg xmlns=\"http://www.w3.org/2000/svg\" height=\"24px\"viewBox=\"0 0 24 24\"\n",
              "     width=\"24px\">\n",
              "    <g>\n",
              "        <path d=\"M19 3H5c-1.1 0-2 .9-2 2v14c0 1.1.9 2 2 2h14c1.1 0 2-.9 2-2V5c0-1.1-.9-2-2-2zM9 17H7v-7h2v7zm4 0h-2V7h2v10zm4 0h-2v-4h2v4z\"/>\n",
              "    </g>\n",
              "</svg>\n",
              "  </button>\n",
              "\n",
              "<style>\n",
              "  .colab-df-quickchart {\n",
              "      --bg-color: #E8F0FE;\n",
              "      --fill-color: #1967D2;\n",
              "      --hover-bg-color: #E2EBFA;\n",
              "      --hover-fill-color: #174EA6;\n",
              "      --disabled-fill-color: #AAA;\n",
              "      --disabled-bg-color: #DDD;\n",
              "  }\n",
              "\n",
              "  [theme=dark] .colab-df-quickchart {\n",
              "      --bg-color: #3B4455;\n",
              "      --fill-color: #D2E3FC;\n",
              "      --hover-bg-color: #434B5C;\n",
              "      --hover-fill-color: #FFFFFF;\n",
              "      --disabled-bg-color: #3B4455;\n",
              "      --disabled-fill-color: #666;\n",
              "  }\n",
              "\n",
              "  .colab-df-quickchart {\n",
              "    background-color: var(--bg-color);\n",
              "    border: none;\n",
              "    border-radius: 50%;\n",
              "    cursor: pointer;\n",
              "    display: none;\n",
              "    fill: var(--fill-color);\n",
              "    height: 32px;\n",
              "    padding: 0;\n",
              "    width: 32px;\n",
              "  }\n",
              "\n",
              "  .colab-df-quickchart:hover {\n",
              "    background-color: var(--hover-bg-color);\n",
              "    box-shadow: 0 1px 2px rgba(60, 64, 67, 0.3), 0 1px 3px 1px rgba(60, 64, 67, 0.15);\n",
              "    fill: var(--button-hover-fill-color);\n",
              "  }\n",
              "\n",
              "  .colab-df-quickchart-complete:disabled,\n",
              "  .colab-df-quickchart-complete:disabled:hover {\n",
              "    background-color: var(--disabled-bg-color);\n",
              "    fill: var(--disabled-fill-color);\n",
              "    box-shadow: none;\n",
              "  }\n",
              "\n",
              "  .colab-df-spinner {\n",
              "    border: 2px solid var(--fill-color);\n",
              "    border-color: transparent;\n",
              "    border-bottom-color: var(--fill-color);\n",
              "    animation:\n",
              "      spin 1s steps(1) infinite;\n",
              "  }\n",
              "\n",
              "  @keyframes spin {\n",
              "    0% {\n",
              "      border-color: transparent;\n",
              "      border-bottom-color: var(--fill-color);\n",
              "      border-left-color: var(--fill-color);\n",
              "    }\n",
              "    20% {\n",
              "      border-color: transparent;\n",
              "      border-left-color: var(--fill-color);\n",
              "      border-top-color: var(--fill-color);\n",
              "    }\n",
              "    30% {\n",
              "      border-color: transparent;\n",
              "      border-left-color: var(--fill-color);\n",
              "      border-top-color: var(--fill-color);\n",
              "      border-right-color: var(--fill-color);\n",
              "    }\n",
              "    40% {\n",
              "      border-color: transparent;\n",
              "      border-right-color: var(--fill-color);\n",
              "      border-top-color: var(--fill-color);\n",
              "    }\n",
              "    60% {\n",
              "      border-color: transparent;\n",
              "      border-right-color: var(--fill-color);\n",
              "    }\n",
              "    80% {\n",
              "      border-color: transparent;\n",
              "      border-right-color: var(--fill-color);\n",
              "      border-bottom-color: var(--fill-color);\n",
              "    }\n",
              "    90% {\n",
              "      border-color: transparent;\n",
              "      border-bottom-color: var(--fill-color);\n",
              "    }\n",
              "  }\n",
              "</style>\n",
              "\n",
              "  <script>\n",
              "    async function quickchart(key) {\n",
              "      const quickchartButtonEl =\n",
              "        document.querySelector('#' + key + ' button');\n",
              "      quickchartButtonEl.disabled = true;  // To prevent multiple clicks.\n",
              "      quickchartButtonEl.classList.add('colab-df-spinner');\n",
              "      try {\n",
              "        const charts = await google.colab.kernel.invokeFunction(\n",
              "            'suggestCharts', [key], {});\n",
              "      } catch (error) {\n",
              "        console.error('Error during call to suggestCharts:', error);\n",
              "      }\n",
              "      quickchartButtonEl.classList.remove('colab-df-spinner');\n",
              "      quickchartButtonEl.classList.add('colab-df-quickchart-complete');\n",
              "    }\n",
              "    (() => {\n",
              "      let quickchartButtonEl =\n",
              "        document.querySelector('#df-c4d37bbe-3161-4e66-97a7-c8cb610cdffd button');\n",
              "      quickchartButtonEl.style.display =\n",
              "        google.colab.kernel.accessAllowed ? 'block' : 'none';\n",
              "    })();\n",
              "  </script>\n",
              "</div>\n",
              "\n",
              "    </div>\n",
              "  </div>\n"
            ],
            "application/vnd.google.colaboratory.intrinsic+json": {
              "type": "dataframe",
              "variable_name": "homicides_df",
              "summary": "{\n  \"name\": \"homicides_df\",\n  \"rows\": 672,\n  \"fields\": [\n    {\n      \"column\": \"Year\",\n      \"properties\": {\n        \"dtype\": \"number\",\n        \"std\": 12,\n        \"min\": 1980,\n        \"max\": 2021,\n        \"num_unique_values\": 42,\n        \"samples\": [\n          2005,\n          1993,\n          1988\n        ],\n        \"semantic_type\": \"\",\n        \"description\": \"\"\n      }\n    },\n    {\n      \"column\": \"Country\",\n      \"properties\": {\n        \"dtype\": \"category\",\n        \"num_unique_values\": 16,\n        \"samples\": [\n          \"Venezuela\",\n          \"Ethiopia\",\n          \"New Zealand\"\n        ],\n        \"semantic_type\": \"\",\n        \"description\": \"\"\n      }\n    },\n    {\n      \"column\": \"Homicide_Rate\",\n      \"properties\": {\n        \"dtype\": \"number\",\n        \"std\": 8.914881704923403,\n        \"min\": 0.4472686869669466,\n        \"max\": 60.07381483725999,\n        \"num_unique_values\": 672,\n        \"samples\": [\n          14.396643790499473,\n          6.422292839781366,\n          8.336527761089286\n        ],\n        \"semantic_type\": \"\",\n        \"description\": \"\"\n      }\n    },\n    {\n      \"column\": \"Cause\",\n      \"properties\": {\n        \"dtype\": \"category\",\n        \"num_unique_values\": 1,\n        \"samples\": [\n          \"Homicide\"\n        ],\n        \"semantic_type\": \"\",\n        \"description\": \"\"\n      }\n    }\n  ]\n}"
            }
          },
          "metadata": {},
          "execution_count": 9
        }
      ]
    },
    {
      "cell_type": "code",
      "source": [
        "# Exporting cleaned homicides data if needed\n",
        "homicides_df.to_csv('gdp_df.csv', index=False)"
      ],
      "metadata": {
        "id": "9_31mWt4zC5D"
      },
      "execution_count": null,
      "outputs": []
    },
    {
      "cell_type": "code",
      "source": [
        "# Organizing edu attainment data\n",
        "edu_attainment_df.drop(columns=[\"Fertility Rate\", \"Population\"], inplace = True)\n",
        "edu_attainment_df.rename(columns={\"Average Years of Education Ages 15-64\": \"Avg_Yrs_Education\"}, inplace = True)"
      ],
      "metadata": {
        "id": "PG04q6I128nN"
      },
      "execution_count": null,
      "outputs": []
    },
    {
      "cell_type": "code",
      "source": [
        "# Exporting cleaned edu attainment if needed\n",
        "edu_attainment_df.to_csv('edu_attainment_df.csv', index=False)"
      ],
      "metadata": {
        "id": "MHt46_Ez34C4"
      },
      "execution_count": null,
      "outputs": []
    },
    {
      "cell_type": "code",
      "source": [
        "# Organizing fert rate data\n",
        "fert_rate_df.drop(columns=[\"Code\"], inplace = True)\n",
        "fert_rate_df.rename(columns={\"Entity\": \"Country\", \"fertility_rate_hist\": \"Fertility_Rate\"}, inplace = True)"
      ],
      "metadata": {
        "id": "-MlHWfJd38dB"
      },
      "execution_count": null,
      "outputs": []
    },
    {
      "cell_type": "code",
      "source": [
        "# Exporting cleaned fert rate data if needed\n",
        "fert_rate_df.to_csv('fert_rate_df.csv', index=False)"
      ],
      "metadata": {
        "id": "Lgx1OgVZ4SDW"
      },
      "execution_count": null,
      "outputs": []
    },
    {
      "cell_type": "code",
      "source": [
        "# Organizing infant mortality data\n",
        "infant_mortality_df.drop(columns=[\"Code\"], inplace = True)\n",
        "infant_mortality_df.rename(columns={\"Entity\": \"Country\", \"Observation value - Indicator: Infant mortality rate - Sex: Total - Wealth quintile: Total - Unit of measure: Deaths per 100 live births\": \"Infant_Mortality\"}, inplace = True)"
      ],
      "metadata": {
        "id": "aRmCRBaB4WXy"
      },
      "execution_count": null,
      "outputs": []
    },
    {
      "cell_type": "code",
      "source": [
        "# Exporting cleaned infant mortality if needed\n",
        "infant_mortality_df.to_csv('infant_mortality_df.csv', index=False)"
      ],
      "metadata": {
        "id": "RCp1aJbf40v4"
      },
      "execution_count": null,
      "outputs": []
    },
    {
      "cell_type": "code",
      "source": [
        "# Organizing life expectancy data\n",
        "life_expectancy_df.drop(columns=[\"Code\"], inplace = True)\n",
        "life_expectancy_df.rename(columns={\"Entity\": \"Country\", \"life_expectancy_0__sex_total__age_0\": \"Life_Expectancy\"}, inplace = True)"
      ],
      "metadata": {
        "id": "GQJ4H_cO46rf"
      },
      "execution_count": null,
      "outputs": []
    },
    {
      "cell_type": "code",
      "source": [
        "# Exporting cleaned life expectancy if needed\n",
        "life_expectancy_df.to_csv('life_expectancy_df.csv', index=False)"
      ],
      "metadata": {
        "id": "M9Al4KoB5In7"
      },
      "execution_count": null,
      "outputs": []
    }
  ],
  "metadata": {
    "language_info": {
      "name": "python"
    },
    "colab": {
      "provenance": []
    },
    "kernelspec": {
      "name": "python3",
      "display_name": "Python 3"
    }
  },
  "nbformat": 4,
  "nbformat_minor": 0
}