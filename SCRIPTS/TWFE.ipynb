{
  "nbformat": 4,
  "nbformat_minor": 0,
  "metadata": {
    "colab": {
      "provenance": [],
      "authorship_tag": "ABX9TyM7HL/hg6mMsvw2timswnNv",
      "include_colab_link": true
    },
    "kernelspec": {
      "name": "python3",
      "display_name": "Python 3"
    },
    "language_info": {
      "name": "python"
    }
  },
  "cells": [
    {
      "cell_type": "markdown",
      "metadata": {
        "id": "view-in-github",
        "colab_type": "text"
      },
      "source": [
        "<a href=\"https://colab.research.google.com/github/vrhughes/DS4002-Project2/blob/main/SCRIPTS/TWFE.ipynb\" target=\"_parent\"><img src=\"https://colab.research.google.com/assets/colab-badge.svg\" alt=\"Open In Colab\"/></a>"
      ]
    },
    {
      "cell_type": "code",
      "execution_count": 1,
      "metadata": {
        "id": "n_8AKcCCQxPm"
      },
      "outputs": [],
      "source": [
        "# Importing\n",
        "import pandas as pd\n",
        "import numpy as np\n",
        "import re"
      ]
    },
    {
      "cell_type": "code",
      "source": [
        "# Cloning the repo\n",
        "! git clone https://github.com/vrhughes/DS4002-Project2"
      ],
      "metadata": {
        "colab": {
          "base_uri": "https://localhost:8080/"
        },
        "id": "Dx6DVZGjREWI",
        "outputId": "771c6b3a-2290-4d8d-f605-66461cdbd23e"
      },
      "execution_count": 2,
      "outputs": [
        {
          "output_type": "stream",
          "name": "stdout",
          "text": [
            "Cloning into 'DS4002-Project2'...\n",
            "remote: Enumerating objects: 108, done.\u001b[K\n",
            "remote: Counting objects: 100% (108/108), done.\u001b[K\n",
            "remote: Compressing objects: 100% (103/103), done.\u001b[K\n",
            "remote: Total 108 (delta 38), reused 0 (delta 0), pack-reused 0 (from 0)\u001b[K\n",
            "Receiving objects: 100% (108/108), 635.12 KiB | 3.40 MiB/s, done.\n",
            "Resolving deltas: 100% (38/38), done.\n"
          ]
        }
      ]
    },
    {
      "cell_type": "code",
      "source": [
        "# Reading in data\n",
        "#fr_analysis = pd.read_csv('/content/DS4002-Project2/OUTPUTS/fr_analysis_df.csv')\n",
        "interp = pd.read_csv('/content/DS4002-Project2/OUTPUTS/interpolated_education_dataset.csv')\n",
        "UN = pd.read_csv('/content/DS4002-Project2/DATA/fertility-rate-with-projections.csv')"
      ],
      "metadata": {
        "id": "pVidqGX7RMrm"
      },
      "execution_count": 4,
      "outputs": []
    },
    {
      "cell_type": "code",
      "source": [
        "# Getting dummies\n",
        "df_encoded = pd.get_dummies(interp, columns=['Country', 'Year'])"
      ],
      "metadata": {
        "id": "BcX11qYARrcU"
      },
      "execution_count": 5,
      "outputs": []
    },
    {
      "cell_type": "code",
      "source": [
        "df_encoded.head()\n",
        "print(df_encoded.columns)"
      ],
      "metadata": {
        "colab": {
          "base_uri": "https://localhost:8080/"
        },
        "id": "kIDgd_h0TE3m",
        "outputId": "fb5633ac-dfeb-470e-ea02-746750ec7efe"
      },
      "execution_count": 9,
      "outputs": [
        {
          "output_type": "stream",
          "name": "stdout",
          "text": [
            "Index(['Fertility_Rate', 'GDP_Per_Capita', 'Homicide_Rate',\n",
            "       'Avg_Yrs_Education', 'Infant_Mortality', 'Life_Expectancy',\n",
            "       'Country_Bangladesh', 'Country_Chile', 'Country_Ethiopia',\n",
            "       'Country_Iran', 'Country_Latvia', 'Country_Namibia', 'Country_Nauru',\n",
            "       'Country_New Zealand', 'Country_Nicaragua', 'Country_Niger',\n",
            "       'Country_Norway', 'Country_Panama', 'Country_South Korea',\n",
            "       'Country_United States', 'Country_Venezuela', 'Country_World',\n",
            "       'Year_1980', 'Year_1981', 'Year_1982', 'Year_1983', 'Year_1984',\n",
            "       'Year_1985', 'Year_1986', 'Year_1987', 'Year_1988', 'Year_1989',\n",
            "       'Year_1990', 'Year_1991', 'Year_1992', 'Year_1993', 'Year_1994',\n",
            "       'Year_1995', 'Year_1996', 'Year_1997', 'Year_1998', 'Year_1999',\n",
            "       'Year_2000', 'Year_2001', 'Year_2002', 'Year_2003', 'Year_2004',\n",
            "       'Year_2005', 'Year_2006', 'Year_2007', 'Year_2008', 'Year_2009',\n",
            "       'Year_2010', 'Year_2011', 'Year_2012', 'Year_2013', 'Year_2014',\n",
            "       'Year_2015', 'Year_2016', 'Year_2017', 'Year_2018', 'Year_2019',\n",
            "       'Year_2020', 'Year_2021', 'Year_2022', 'Year_2023'],\n",
            "      dtype='object')\n"
          ]
        }
      ]
    },
    {
      "cell_type": "markdown",
      "source": [
        "wow that's a lot of columns!"
      ],
      "metadata": {
        "id": "gOmfKJPgTMiX"
      }
    },
    {
      "cell_type": "code",
      "source": [
        "pip install linearmodels"
      ],
      "metadata": {
        "colab": {
          "base_uri": "https://localhost:8080/"
        },
        "id": "JLs7wu6Fb2jC",
        "outputId": "44ecd6f9-ec51-41fd-eff5-08f48c663616"
      },
      "execution_count": 15,
      "outputs": [
        {
          "output_type": "stream",
          "name": "stdout",
          "text": [
            "Collecting linearmodels\n",
            "  Downloading linearmodels-6.1-cp311-cp311-manylinux_2_17_x86_64.manylinux2014_x86_64.whl.metadata (7.9 kB)\n",
            "Requirement already satisfied: numpy<3,>=1.22.3 in /usr/local/lib/python3.11/dist-packages (from linearmodels) (2.0.2)\n",
            "Requirement already satisfied: pandas>=1.4.0 in /usr/local/lib/python3.11/dist-packages (from linearmodels) (2.2.2)\n",
            "Requirement already satisfied: scipy>=1.8.0 in /usr/local/lib/python3.11/dist-packages (from linearmodels) (1.14.1)\n",
            "Requirement already satisfied: statsmodels>=0.13.0 in /usr/local/lib/python3.11/dist-packages (from linearmodels) (0.14.4)\n",
            "Collecting mypy-extensions>=0.4 (from linearmodels)\n",
            "  Downloading mypy_extensions-1.0.0-py3-none-any.whl.metadata (1.1 kB)\n",
            "Requirement already satisfied: Cython>=3.0.10 in /usr/local/lib/python3.11/dist-packages (from linearmodels) (3.0.12)\n",
            "Collecting pyhdfe>=0.1 (from linearmodels)\n",
            "  Downloading pyhdfe-0.2.0-py3-none-any.whl.metadata (4.0 kB)\n",
            "Collecting formulaic>=1.0.0 (from linearmodels)\n",
            "  Downloading formulaic-1.1.1-py3-none-any.whl.metadata (6.9 kB)\n",
            "Collecting setuptools-scm<9.0.0,>=8.0.0 (from setuptools-scm[toml]<9.0.0,>=8.0.0->linearmodels)\n",
            "  Downloading setuptools_scm-8.2.0-py3-none-any.whl.metadata (6.8 kB)\n",
            "Collecting interface-meta>=1.2.0 (from formulaic>=1.0.0->linearmodels)\n",
            "  Downloading interface_meta-1.3.0-py3-none-any.whl.metadata (6.7 kB)\n",
            "Requirement already satisfied: typing-extensions>=4.2.0 in /usr/local/lib/python3.11/dist-packages (from formulaic>=1.0.0->linearmodels) (4.12.2)\n",
            "Requirement already satisfied: wrapt>=1.0 in /usr/local/lib/python3.11/dist-packages (from formulaic>=1.0.0->linearmodels) (1.17.2)\n",
            "Requirement already satisfied: python-dateutil>=2.8.2 in /usr/local/lib/python3.11/dist-packages (from pandas>=1.4.0->linearmodels) (2.8.2)\n",
            "Requirement already satisfied: pytz>=2020.1 in /usr/local/lib/python3.11/dist-packages (from pandas>=1.4.0->linearmodels) (2025.1)\n",
            "Requirement already satisfied: tzdata>=2022.7 in /usr/local/lib/python3.11/dist-packages (from pandas>=1.4.0->linearmodels) (2025.1)\n",
            "Requirement already satisfied: packaging>=20 in /usr/local/lib/python3.11/dist-packages (from setuptools-scm<9.0.0,>=8.0.0->setuptools-scm[toml]<9.0.0,>=8.0.0->linearmodels) (24.2)\n",
            "Requirement already satisfied: setuptools>=61 in /usr/local/lib/python3.11/dist-packages (from setuptools-scm<9.0.0,>=8.0.0->setuptools-scm[toml]<9.0.0,>=8.0.0->linearmodels) (75.1.0)\n",
            "Requirement already satisfied: patsy>=0.5.6 in /usr/local/lib/python3.11/dist-packages (from statsmodels>=0.13.0->linearmodels) (1.0.1)\n",
            "Requirement already satisfied: six>=1.5 in /usr/local/lib/python3.11/dist-packages (from python-dateutil>=2.8.2->pandas>=1.4.0->linearmodels) (1.17.0)\n",
            "Downloading linearmodels-6.1-cp311-cp311-manylinux_2_17_x86_64.manylinux2014_x86_64.whl (1.7 MB)\n",
            "\u001b[2K   \u001b[90m━━━━━━━━━━━━━━━━━━━━━━━━━━━━━━━━━━━━━━━━\u001b[0m \u001b[32m1.7/1.7 MB\u001b[0m \u001b[31m18.8 MB/s\u001b[0m eta \u001b[36m0:00:00\u001b[0m\n",
            "\u001b[?25hDownloading formulaic-1.1.1-py3-none-any.whl (115 kB)\n",
            "\u001b[2K   \u001b[90m━━━━━━━━━━━━━━━━━━━━━━━━━━━━━━━━━━━━━━━━\u001b[0m \u001b[32m115.7/115.7 kB\u001b[0m \u001b[31m9.8 MB/s\u001b[0m eta \u001b[36m0:00:00\u001b[0m\n",
            "\u001b[?25hDownloading mypy_extensions-1.0.0-py3-none-any.whl (4.7 kB)\n",
            "Downloading pyhdfe-0.2.0-py3-none-any.whl (19 kB)\n",
            "Downloading setuptools_scm-8.2.0-py3-none-any.whl (43 kB)\n",
            "\u001b[2K   \u001b[90m━━━━━━━━━━━━━━━━━━━━━━━━━━━━━━━━━━━━━━━━\u001b[0m \u001b[32m43.9/43.9 kB\u001b[0m \u001b[31m3.7 MB/s\u001b[0m eta \u001b[36m0:00:00\u001b[0m\n",
            "\u001b[?25hDownloading interface_meta-1.3.0-py3-none-any.whl (14 kB)\n",
            "Installing collected packages: setuptools-scm, mypy-extensions, interface-meta, pyhdfe, formulaic, linearmodels\n",
            "Successfully installed formulaic-1.1.1 interface-meta-1.3.0 linearmodels-6.1 mypy-extensions-1.0.0 pyhdfe-0.2.0 setuptools-scm-8.2.0\n"
          ]
        }
      ]
    },
    {
      "cell_type": "code",
      "source": [
        "# Importing for TWFE\n",
        "from matplotlib import style\n",
        "from matplotlib import pyplot as plt\n",
        "import statsmodels.formula.api as smf\n",
        "import graphviz as gr\n",
        "from linearmodels.panel import PanelOLS"
      ],
      "metadata": {
        "id": "ifq3HFCpTLbX"
      },
      "execution_count": 16,
      "outputs": []
    },
    {
      "cell_type": "code",
      "source": [
        "# Running linear regression on the covariates and the dummies\n",
        "twfe = PanelOLS.from_formula(\"Fertility_Rate ~ GDP_Per_Capita+Homicide_Rate+Avg_Yrs_Education+Infant_Mortality+Life_Expectancy+EntityEffects+TimeEffects\", data=interp.set_index([\"Country\", \"Year\"]))\n",
        "\n",
        "result = twfe.fit(cov_type = 'clustered', cluster_entity = True, cluster_time = True)\n",
        "result.summary.tables[1]"
      ],
      "metadata": {
        "colab": {
          "base_uri": "https://localhost:8080/",
          "height": 218
        },
        "id": "D0YWIeTeUMb2",
        "outputId": "dc806d77-3d05-42d9-bc6e-c0139e9b9f2d"
      },
      "execution_count": 23,
      "outputs": [
        {
          "output_type": "stream",
          "name": "stderr",
          "text": [
            "/usr/local/lib/python3.11/dist-packages/linearmodels/panel/model.py:1260: MissingValueWarning: \n",
            "Inputs contain missing values. Dropping rows with missing observations.\n",
            "  super().__init__(dependent, exog, weights=weights, check_rank=check_rank)\n"
          ]
        },
        {
          "output_type": "execute_result",
          "data": {
            "text/plain": [
              "<class 'statsmodels.iolib.table.SimpleTable'>"
            ],
            "text/html": [
              "<table class=\"simpletable\">\n",
              "<caption>Parameter Estimates</caption>\n",
              "<tr>\n",
              "          <td></td>          <th>Parameter</th> <th>Std. Err.</th> <th>T-stat</th>  <th>P-value</th> <th>Lower CI</th>  <th>Upper CI</th> \n",
              "</tr>\n",
              "<tr>\n",
              "  <th>GDP_Per_Capita</th>    <td>1.011e-05</td> <td>3.136e-06</td> <td>3.2240</td>  <td>0.0014</td>  <td>3.945e-06</td> <td>1.627e-05</td>\n",
              "</tr>\n",
              "<tr>\n",
              "  <th>Homicide_Rate</th>      <td>0.0122</td>    <td>0.0079</td>   <td>1.5409</td>  <td>0.1241</td>   <td>-0.0034</td>   <td>0.0278</td>  \n",
              "</tr>\n",
              "<tr>\n",
              "  <th>Avg_Yrs_Education</th>  <td>-0.4771</td>   <td>0.1624</td>   <td>-2.9385</td> <td>0.0035</td>   <td>-0.7962</td>   <td>-0.1579</td> \n",
              "</tr>\n",
              "<tr>\n",
              "  <th>Infant_Mortality</th>   <td>0.1840</td>    <td>0.0920</td>   <td>2.0006</td>  <td>0.0461</td>   <td>0.0032</td>    <td>0.3648</td>  \n",
              "</tr>\n",
              "<tr>\n",
              "  <th>Life_Expectancy</th>    <td>0.0411</td>    <td>0.0616</td>   <td>0.6675</td>  <td>0.5048</td>   <td>-0.0800</td>   <td>0.1622</td>  \n",
              "</tr>\n",
              "</table>"
            ],
            "text/latex": "\\begin{center}\n\\begin{tabular}{lcccccc}\n\\toprule\n                             & \\textbf{Parameter} & \\textbf{Std. Err.} & \\textbf{T-stat} & \\textbf{P-value} & \\textbf{Lower CI} & \\textbf{Upper CI}  \\\\\n\\midrule\n\\textbf{GDP\\_Per\\_Capita}    &     1.011e-05      &     3.136e-06      &      3.2240     &      0.0014      &     3.945e-06     &     1.627e-05      \\\\\n\\textbf{Homicide\\_Rate}      &       0.0122       &       0.0079       &      1.5409     &      0.1241      &      -0.0034      &       0.0278       \\\\\n\\textbf{Avg\\_Yrs\\_Education} &      -0.4771       &       0.1624       &     -2.9385     &      0.0035      &      -0.7962      &      -0.1579       \\\\\n\\textbf{Infant\\_Mortality}   &       0.1840       &       0.0920       &      2.0006     &      0.0461      &       0.0032      &       0.3648       \\\\\n\\textbf{Life\\_Expectancy}    &       0.0411       &       0.0616       &      0.6675     &      0.5048      &      -0.0800      &       0.1622       \\\\\n\\bottomrule\n\\end{tabular}\n%\\caption{Parameter Estimates}\n\\end{center}"
          },
          "metadata": {},
          "execution_count": 23
        }
      ]
    },
    {
      "cell_type": "code",
      "source": [
        "# Getting coefficients and making model (mod)\n",
        "mod = smf.ols(formula='Fertility_Rate ~ GDP_Per_Capita+Homicide_Rate+Avg_Yrs_Education+Infant_Mortality+Life_Expectancy', data=interp).fit()\n",
        "mod.summary().tables[1]"
      ],
      "metadata": {
        "colab": {
          "base_uri": "https://localhost:8080/",
          "height": 168
        },
        "id": "gG5UaF8Rc81o",
        "outputId": "561f8a82-4d3d-49a4-a133-8528bf25d2e1"
      },
      "execution_count": 25,
      "outputs": [
        {
          "output_type": "execute_result",
          "data": {
            "text/plain": [
              "<class 'statsmodels.iolib.table.SimpleTable'>"
            ],
            "text/html": [
              "<table class=\"simpletable\">\n",
              "<tr>\n",
              "          <td></td>             <th>coef</th>     <th>std err</th>      <th>t</th>      <th>P>|t|</th>  <th>[0.025</th>    <th>0.975]</th>  \n",
              "</tr>\n",
              "<tr>\n",
              "  <th>Intercept</th>         <td>   11.7745</td> <td>    0.956</td> <td>   12.317</td> <td> 0.000</td> <td>    9.896</td> <td>   13.653</td>\n",
              "</tr>\n",
              "<tr>\n",
              "  <th>GDP_Per_Capita</th>    <td> 1.966e-05</td> <td>  2.1e-06</td> <td>    9.352</td> <td> 0.000</td> <td> 1.55e-05</td> <td> 2.38e-05</td>\n",
              "</tr>\n",
              "<tr>\n",
              "  <th>Homicide_Rate</th>     <td>    0.0075</td> <td>    0.004</td> <td>    2.019</td> <td> 0.044</td> <td>    0.000</td> <td>    0.015</td>\n",
              "</tr>\n",
              "<tr>\n",
              "  <th>Avg_Yrs_Education</th> <td>   -0.2365</td> <td>    0.023</td> <td>  -10.307</td> <td> 0.000</td> <td>   -0.282</td> <td>   -0.191</td>\n",
              "</tr>\n",
              "<tr>\n",
              "  <th>Infant_Mortality</th>  <td>    0.0248</td> <td>    0.035</td> <td>    0.711</td> <td> 0.477</td> <td>   -0.044</td> <td>    0.094</td>\n",
              "</tr>\n",
              "<tr>\n",
              "  <th>Life_Expectancy</th>   <td>   -0.1022</td> <td>    0.013</td> <td>   -7.929</td> <td> 0.000</td> <td>   -0.127</td> <td>   -0.077</td>\n",
              "</tr>\n",
              "</table>"
            ],
            "text/latex": "\\begin{center}\n\\begin{tabular}{lcccccc}\n\\toprule\n                             & \\textbf{coef} & \\textbf{std err} & \\textbf{t} & \\textbf{P$> |$t$|$} & \\textbf{[0.025} & \\textbf{0.975]}  \\\\\n\\midrule\n\\textbf{Intercept}           &      11.7745  &        0.956     &    12.317  &         0.000        &        9.896    &       13.653     \\\\\n\\textbf{GDP\\_Per\\_Capita}    &    1.966e-05  &      2.1e-06     &     9.352  &         0.000        &     1.55e-05    &     2.38e-05     \\\\\n\\textbf{Homicide\\_Rate}      &       0.0075  &        0.004     &     2.019  &         0.044        &        0.000    &        0.015     \\\\\n\\textbf{Avg\\_Yrs\\_Education} &      -0.2365  &        0.023     &   -10.307  &         0.000        &       -0.282    &       -0.191     \\\\\n\\textbf{Infant\\_Mortality}   &       0.0248  &        0.035     &     0.711  &         0.477        &       -0.044    &        0.094     \\\\\n\\textbf{Life\\_Expectancy}    &      -0.1022  &        0.013     &    -7.929  &         0.000        &       -0.127    &       -0.077     \\\\\n\\bottomrule\n\\end{tabular}\n\\end{center}"
          },
          "metadata": {},
          "execution_count": 25
        }
      ]
    },
    {
      "cell_type": "markdown",
      "source": [
        "average years education of women decreased the fertility rates by 23%"
      ],
      "metadata": {
        "id": "u64WMxBVdhSG"
      }
    },
    {
      "cell_type": "markdown",
      "source": [
        "p val low means very low chance it does not affect dependent, so low means relevant, high means irrelevantc --> homicide and infant mortality are less relevant"
      ],
      "metadata": {
        "id": "CGhy9zuFin3_"
      }
    },
    {
      "cell_type": "markdown",
      "source": [
        "# STEP 2"
      ],
      "metadata": {
        "id": "on3oHwaVgYZ0"
      }
    },
    {
      "cell_type": "code",
      "source": [
        "dum_yr = pd.get_dummies(interp['Year'])\n",
        "dummy_it = 11.7745 + 1.966e-05*t + 0.0075*t + -0.2365*t + 0.0248*t + -0.1022*t"
      ],
      "metadata": {
        "id": "Hp5UOeiogcmc"
      },
      "execution_count": null,
      "outputs": []
    },
    {
      "cell_type": "code",
      "source": [
        "twfe_toy = df_encoded.assign(y_hat = twfe.fittedvalues)\n",
        "\n",
        "plt.scatter(df_encoded.Year)"
      ],
      "metadata": {
        "id": "RZ454bOSaIXT"
      },
      "execution_count": null,
      "outputs": []
    },
    {
      "cell_type": "markdown",
      "source": [],
      "metadata": {
        "id": "E0n2KjRxkckr"
      }
    },
    {
      "cell_type": "markdown",
      "source": [
        "Try second"
      ],
      "metadata": {
        "id": "E4RUvlO2bHKa"
      }
    },
    {
      "cell_type": "code",
      "source": [],
      "metadata": {
        "id": "n9cUXQCjbGw0"
      },
      "execution_count": null,
      "outputs": []
    },
    {
      "cell_type": "markdown",
      "source": [
        "X in the email is the regression variables matrix\n",
        "\n",
        "B is beta which is the coefficients matrix\n"
      ],
      "metadata": {
        "id": "OjrmHkgaj1R5"
      }
    },
    {
      "cell_type": "code",
      "source": [
        "unit_col_name = 'Country'\n",
        "time_period_col_name = 'Year'\n",
        "\n",
        "df_panel = interp.copy()\n",
        "df_panel[\"Country\"] = df_panel[\"Country\"].str.replace(\" \", \"_\")\n",
        "\n",
        "# Create dummy vars, one per country\n",
        "df_dummies = pd.get_dummies(df_panel[unit_col_name], dtype=int)\n",
        "\n",
        "# Create dummy vars, one per year\n",
        "time_period_dummies = pd.get_dummies(df_panel[time_period_col_name], dtype=int, prefix=time_period_col_name)\n",
        "\n",
        "df_panel_w_dummies = df_panel.join([df_dummies, time_period_dummies])\n",
        "df_panel_w_dummies.head()"
      ],
      "metadata": {
        "colab": {
          "base_uri": "https://localhost:8080/",
          "height": 255
        },
        "id": "-sYtS52ukdCQ",
        "outputId": "f9201ed0-f1db-453c-9675-10a9a3a5befe"
      },
      "execution_count": 80,
      "outputs": [
        {
          "output_type": "execute_result",
          "data": {
            "text/plain": [
              "      Country  Year  Fertility_Rate  GDP_Per_Capita  Homicide_Rate  \\\n",
              "0  Bangladesh  1980           6.326      206.075714       1.672038   \n",
              "1  Bangladesh  1981           6.237      224.241392       1.829637   \n",
              "2  Bangladesh  1982           6.118      199.595945       1.987816   \n",
              "3  Bangladesh  1983           5.906      184.706773       2.170414   \n",
              "4  Bangladesh  1984           5.732      193.435021       2.442022   \n",
              "\n",
              "   Avg_Yrs_Education  Infant_Mortality  Life_Expectancy  Bangladesh  Chile  \\\n",
              "0              1.310         13.789642          52.2778           1      0   \n",
              "1              1.436         13.472392          52.6383           1      0   \n",
              "2              1.562         13.139923          53.0119           1      0   \n",
              "3              1.688         12.788301          53.4409           1      0   \n",
              "4              1.814         12.423361          53.8259           1      0   \n",
              "\n",
              "   ...  Year_2014  Year_2015  Year_2016  Year_2017  Year_2018  Year_2019  \\\n",
              "0  ...          0          0          0          0          0          0   \n",
              "1  ...          0          0          0          0          0          0   \n",
              "2  ...          0          0          0          0          0          0   \n",
              "3  ...          0          0          0          0          0          0   \n",
              "4  ...          0          0          0          0          0          0   \n",
              "\n",
              "   Year_2020  Year_2021  Year_2022  Year_2023  \n",
              "0          0          0          0          0  \n",
              "1          0          0          0          0  \n",
              "2          0          0          0          0  \n",
              "3          0          0          0          0  \n",
              "4          0          0          0          0  \n",
              "\n",
              "[5 rows x 68 columns]"
            ],
            "text/html": [
              "\n",
              "  <div id=\"df-8686f3a2-79d9-4e58-84b6-83665f28f6e6\" class=\"colab-df-container\">\n",
              "    <div>\n",
              "<style scoped>\n",
              "    .dataframe tbody tr th:only-of-type {\n",
              "        vertical-align: middle;\n",
              "    }\n",
              "\n",
              "    .dataframe tbody tr th {\n",
              "        vertical-align: top;\n",
              "    }\n",
              "\n",
              "    .dataframe thead th {\n",
              "        text-align: right;\n",
              "    }\n",
              "</style>\n",
              "<table border=\"1\" class=\"dataframe\">\n",
              "  <thead>\n",
              "    <tr style=\"text-align: right;\">\n",
              "      <th></th>\n",
              "      <th>Country</th>\n",
              "      <th>Year</th>\n",
              "      <th>Fertility_Rate</th>\n",
              "      <th>GDP_Per_Capita</th>\n",
              "      <th>Homicide_Rate</th>\n",
              "      <th>Avg_Yrs_Education</th>\n",
              "      <th>Infant_Mortality</th>\n",
              "      <th>Life_Expectancy</th>\n",
              "      <th>Bangladesh</th>\n",
              "      <th>Chile</th>\n",
              "      <th>...</th>\n",
              "      <th>Year_2014</th>\n",
              "      <th>Year_2015</th>\n",
              "      <th>Year_2016</th>\n",
              "      <th>Year_2017</th>\n",
              "      <th>Year_2018</th>\n",
              "      <th>Year_2019</th>\n",
              "      <th>Year_2020</th>\n",
              "      <th>Year_2021</th>\n",
              "      <th>Year_2022</th>\n",
              "      <th>Year_2023</th>\n",
              "    </tr>\n",
              "  </thead>\n",
              "  <tbody>\n",
              "    <tr>\n",
              "      <th>0</th>\n",
              "      <td>Bangladesh</td>\n",
              "      <td>1980</td>\n",
              "      <td>6.326</td>\n",
              "      <td>206.075714</td>\n",
              "      <td>1.672038</td>\n",
              "      <td>1.310</td>\n",
              "      <td>13.789642</td>\n",
              "      <td>52.2778</td>\n",
              "      <td>1</td>\n",
              "      <td>0</td>\n",
              "      <td>...</td>\n",
              "      <td>0</td>\n",
              "      <td>0</td>\n",
              "      <td>0</td>\n",
              "      <td>0</td>\n",
              "      <td>0</td>\n",
              "      <td>0</td>\n",
              "      <td>0</td>\n",
              "      <td>0</td>\n",
              "      <td>0</td>\n",
              "      <td>0</td>\n",
              "    </tr>\n",
              "    <tr>\n",
              "      <th>1</th>\n",
              "      <td>Bangladesh</td>\n",
              "      <td>1981</td>\n",
              "      <td>6.237</td>\n",
              "      <td>224.241392</td>\n",
              "      <td>1.829637</td>\n",
              "      <td>1.436</td>\n",
              "      <td>13.472392</td>\n",
              "      <td>52.6383</td>\n",
              "      <td>1</td>\n",
              "      <td>0</td>\n",
              "      <td>...</td>\n",
              "      <td>0</td>\n",
              "      <td>0</td>\n",
              "      <td>0</td>\n",
              "      <td>0</td>\n",
              "      <td>0</td>\n",
              "      <td>0</td>\n",
              "      <td>0</td>\n",
              "      <td>0</td>\n",
              "      <td>0</td>\n",
              "      <td>0</td>\n",
              "    </tr>\n",
              "    <tr>\n",
              "      <th>2</th>\n",
              "      <td>Bangladesh</td>\n",
              "      <td>1982</td>\n",
              "      <td>6.118</td>\n",
              "      <td>199.595945</td>\n",
              "      <td>1.987816</td>\n",
              "      <td>1.562</td>\n",
              "      <td>13.139923</td>\n",
              "      <td>53.0119</td>\n",
              "      <td>1</td>\n",
              "      <td>0</td>\n",
              "      <td>...</td>\n",
              "      <td>0</td>\n",
              "      <td>0</td>\n",
              "      <td>0</td>\n",
              "      <td>0</td>\n",
              "      <td>0</td>\n",
              "      <td>0</td>\n",
              "      <td>0</td>\n",
              "      <td>0</td>\n",
              "      <td>0</td>\n",
              "      <td>0</td>\n",
              "    </tr>\n",
              "    <tr>\n",
              "      <th>3</th>\n",
              "      <td>Bangladesh</td>\n",
              "      <td>1983</td>\n",
              "      <td>5.906</td>\n",
              "      <td>184.706773</td>\n",
              "      <td>2.170414</td>\n",
              "      <td>1.688</td>\n",
              "      <td>12.788301</td>\n",
              "      <td>53.4409</td>\n",
              "      <td>1</td>\n",
              "      <td>0</td>\n",
              "      <td>...</td>\n",
              "      <td>0</td>\n",
              "      <td>0</td>\n",
              "      <td>0</td>\n",
              "      <td>0</td>\n",
              "      <td>0</td>\n",
              "      <td>0</td>\n",
              "      <td>0</td>\n",
              "      <td>0</td>\n",
              "      <td>0</td>\n",
              "      <td>0</td>\n",
              "    </tr>\n",
              "    <tr>\n",
              "      <th>4</th>\n",
              "      <td>Bangladesh</td>\n",
              "      <td>1984</td>\n",
              "      <td>5.732</td>\n",
              "      <td>193.435021</td>\n",
              "      <td>2.442022</td>\n",
              "      <td>1.814</td>\n",
              "      <td>12.423361</td>\n",
              "      <td>53.8259</td>\n",
              "      <td>1</td>\n",
              "      <td>0</td>\n",
              "      <td>...</td>\n",
              "      <td>0</td>\n",
              "      <td>0</td>\n",
              "      <td>0</td>\n",
              "      <td>0</td>\n",
              "      <td>0</td>\n",
              "      <td>0</td>\n",
              "      <td>0</td>\n",
              "      <td>0</td>\n",
              "      <td>0</td>\n",
              "      <td>0</td>\n",
              "    </tr>\n",
              "  </tbody>\n",
              "</table>\n",
              "<p>5 rows × 68 columns</p>\n",
              "</div>\n",
              "    <div class=\"colab-df-buttons\">\n",
              "\n",
              "  <div class=\"colab-df-container\">\n",
              "    <button class=\"colab-df-convert\" onclick=\"convertToInteractive('df-8686f3a2-79d9-4e58-84b6-83665f28f6e6')\"\n",
              "            title=\"Convert this dataframe to an interactive table.\"\n",
              "            style=\"display:none;\">\n",
              "\n",
              "  <svg xmlns=\"http://www.w3.org/2000/svg\" height=\"24px\" viewBox=\"0 -960 960 960\">\n",
              "    <path d=\"M120-120v-720h720v720H120Zm60-500h600v-160H180v160Zm220 220h160v-160H400v160Zm0 220h160v-160H400v160ZM180-400h160v-160H180v160Zm440 0h160v-160H620v160ZM180-180h160v-160H180v160Zm440 0h160v-160H620v160Z\"/>\n",
              "  </svg>\n",
              "    </button>\n",
              "\n",
              "  <style>\n",
              "    .colab-df-container {\n",
              "      display:flex;\n",
              "      gap: 12px;\n",
              "    }\n",
              "\n",
              "    .colab-df-convert {\n",
              "      background-color: #E8F0FE;\n",
              "      border: none;\n",
              "      border-radius: 50%;\n",
              "      cursor: pointer;\n",
              "      display: none;\n",
              "      fill: #1967D2;\n",
              "      height: 32px;\n",
              "      padding: 0 0 0 0;\n",
              "      width: 32px;\n",
              "    }\n",
              "\n",
              "    .colab-df-convert:hover {\n",
              "      background-color: #E2EBFA;\n",
              "      box-shadow: 0px 1px 2px rgba(60, 64, 67, 0.3), 0px 1px 3px 1px rgba(60, 64, 67, 0.15);\n",
              "      fill: #174EA6;\n",
              "    }\n",
              "\n",
              "    .colab-df-buttons div {\n",
              "      margin-bottom: 4px;\n",
              "    }\n",
              "\n",
              "    [theme=dark] .colab-df-convert {\n",
              "      background-color: #3B4455;\n",
              "      fill: #D2E3FC;\n",
              "    }\n",
              "\n",
              "    [theme=dark] .colab-df-convert:hover {\n",
              "      background-color: #434B5C;\n",
              "      box-shadow: 0px 1px 3px 1px rgba(0, 0, 0, 0.15);\n",
              "      filter: drop-shadow(0px 1px 2px rgba(0, 0, 0, 0.3));\n",
              "      fill: #FFFFFF;\n",
              "    }\n",
              "  </style>\n",
              "\n",
              "    <script>\n",
              "      const buttonEl =\n",
              "        document.querySelector('#df-8686f3a2-79d9-4e58-84b6-83665f28f6e6 button.colab-df-convert');\n",
              "      buttonEl.style.display =\n",
              "        google.colab.kernel.accessAllowed ? 'block' : 'none';\n",
              "\n",
              "      async function convertToInteractive(key) {\n",
              "        const element = document.querySelector('#df-8686f3a2-79d9-4e58-84b6-83665f28f6e6');\n",
              "        const dataTable =\n",
              "          await google.colab.kernel.invokeFunction('convertToInteractive',\n",
              "                                                    [key], {});\n",
              "        if (!dataTable) return;\n",
              "\n",
              "        const docLinkHtml = 'Like what you see? Visit the ' +\n",
              "          '<a target=\"_blank\" href=https://colab.research.google.com/notebooks/data_table.ipynb>data table notebook</a>'\n",
              "          + ' to learn more about interactive tables.';\n",
              "        element.innerHTML = '';\n",
              "        dataTable['output_type'] = 'display_data';\n",
              "        await google.colab.output.renderOutput(dataTable, element);\n",
              "        const docLink = document.createElement('div');\n",
              "        docLink.innerHTML = docLinkHtml;\n",
              "        element.appendChild(docLink);\n",
              "      }\n",
              "    </script>\n",
              "  </div>\n",
              "\n",
              "\n",
              "<div id=\"df-4be1276d-cfd9-4c66-a045-4e24693df0f0\">\n",
              "  <button class=\"colab-df-quickchart\" onclick=\"quickchart('df-4be1276d-cfd9-4c66-a045-4e24693df0f0')\"\n",
              "            title=\"Suggest charts\"\n",
              "            style=\"display:none;\">\n",
              "\n",
              "<svg xmlns=\"http://www.w3.org/2000/svg\" height=\"24px\"viewBox=\"0 0 24 24\"\n",
              "     width=\"24px\">\n",
              "    <g>\n",
              "        <path d=\"M19 3H5c-1.1 0-2 .9-2 2v14c0 1.1.9 2 2 2h14c1.1 0 2-.9 2-2V5c0-1.1-.9-2-2-2zM9 17H7v-7h2v7zm4 0h-2V7h2v10zm4 0h-2v-4h2v4z\"/>\n",
              "    </g>\n",
              "</svg>\n",
              "  </button>\n",
              "\n",
              "<style>\n",
              "  .colab-df-quickchart {\n",
              "      --bg-color: #E8F0FE;\n",
              "      --fill-color: #1967D2;\n",
              "      --hover-bg-color: #E2EBFA;\n",
              "      --hover-fill-color: #174EA6;\n",
              "      --disabled-fill-color: #AAA;\n",
              "      --disabled-bg-color: #DDD;\n",
              "  }\n",
              "\n",
              "  [theme=dark] .colab-df-quickchart {\n",
              "      --bg-color: #3B4455;\n",
              "      --fill-color: #D2E3FC;\n",
              "      --hover-bg-color: #434B5C;\n",
              "      --hover-fill-color: #FFFFFF;\n",
              "      --disabled-bg-color: #3B4455;\n",
              "      --disabled-fill-color: #666;\n",
              "  }\n",
              "\n",
              "  .colab-df-quickchart {\n",
              "    background-color: var(--bg-color);\n",
              "    border: none;\n",
              "    border-radius: 50%;\n",
              "    cursor: pointer;\n",
              "    display: none;\n",
              "    fill: var(--fill-color);\n",
              "    height: 32px;\n",
              "    padding: 0;\n",
              "    width: 32px;\n",
              "  }\n",
              "\n",
              "  .colab-df-quickchart:hover {\n",
              "    background-color: var(--hover-bg-color);\n",
              "    box-shadow: 0 1px 2px rgba(60, 64, 67, 0.3), 0 1px 3px 1px rgba(60, 64, 67, 0.15);\n",
              "    fill: var(--button-hover-fill-color);\n",
              "  }\n",
              "\n",
              "  .colab-df-quickchart-complete:disabled,\n",
              "  .colab-df-quickchart-complete:disabled:hover {\n",
              "    background-color: var(--disabled-bg-color);\n",
              "    fill: var(--disabled-fill-color);\n",
              "    box-shadow: none;\n",
              "  }\n",
              "\n",
              "  .colab-df-spinner {\n",
              "    border: 2px solid var(--fill-color);\n",
              "    border-color: transparent;\n",
              "    border-bottom-color: var(--fill-color);\n",
              "    animation:\n",
              "      spin 1s steps(1) infinite;\n",
              "  }\n",
              "\n",
              "  @keyframes spin {\n",
              "    0% {\n",
              "      border-color: transparent;\n",
              "      border-bottom-color: var(--fill-color);\n",
              "      border-left-color: var(--fill-color);\n",
              "    }\n",
              "    20% {\n",
              "      border-color: transparent;\n",
              "      border-left-color: var(--fill-color);\n",
              "      border-top-color: var(--fill-color);\n",
              "    }\n",
              "    30% {\n",
              "      border-color: transparent;\n",
              "      border-left-color: var(--fill-color);\n",
              "      border-top-color: var(--fill-color);\n",
              "      border-right-color: var(--fill-color);\n",
              "    }\n",
              "    40% {\n",
              "      border-color: transparent;\n",
              "      border-right-color: var(--fill-color);\n",
              "      border-top-color: var(--fill-color);\n",
              "    }\n",
              "    60% {\n",
              "      border-color: transparent;\n",
              "      border-right-color: var(--fill-color);\n",
              "    }\n",
              "    80% {\n",
              "      border-color: transparent;\n",
              "      border-right-color: var(--fill-color);\n",
              "      border-bottom-color: var(--fill-color);\n",
              "    }\n",
              "    90% {\n",
              "      border-color: transparent;\n",
              "      border-bottom-color: var(--fill-color);\n",
              "    }\n",
              "  }\n",
              "</style>\n",
              "\n",
              "  <script>\n",
              "    async function quickchart(key) {\n",
              "      const quickchartButtonEl =\n",
              "        document.querySelector('#' + key + ' button');\n",
              "      quickchartButtonEl.disabled = true;  // To prevent multiple clicks.\n",
              "      quickchartButtonEl.classList.add('colab-df-spinner');\n",
              "      try {\n",
              "        const charts = await google.colab.kernel.invokeFunction(\n",
              "            'suggestCharts', [key], {});\n",
              "      } catch (error) {\n",
              "        console.error('Error during call to suggestCharts:', error);\n",
              "      }\n",
              "      quickchartButtonEl.classList.remove('colab-df-spinner');\n",
              "      quickchartButtonEl.classList.add('colab-df-quickchart-complete');\n",
              "    }\n",
              "    (() => {\n",
              "      let quickchartButtonEl =\n",
              "        document.querySelector('#df-4be1276d-cfd9-4c66-a045-4e24693df0f0 button');\n",
              "      quickchartButtonEl.style.display =\n",
              "        google.colab.kernel.accessAllowed ? 'block' : 'none';\n",
              "    })();\n",
              "  </script>\n",
              "</div>\n",
              "\n",
              "    </div>\n",
              "  </div>\n"
            ],
            "application/vnd.google.colaboratory.intrinsic+json": {
              "type": "dataframe",
              "variable_name": "df_panel_w_dummies"
            }
          },
          "metadata": {},
          "execution_count": 80
        }
      ]
    },
    {
      "cell_type": "code",
      "source": [
        "y_var_name = 'Fertility_Rate'\n",
        "x_var_names = ['GDP_Per_Capita', 'Homicide_Rate', 'Avg_Yrs_Education', 'Infant_Mortality', 'Life_Expectancy']"
      ],
      "metadata": {
        "id": "vNCYkpJ2lRys"
      },
      "execution_count": 81,
      "outputs": []
    },
    {
      "cell_type": "code",
      "source": [
        "# # work on least squares dummy var\n",
        "# lsdv_expr = y_var_name + ' ~ '\n",
        "# i = 0\n",
        "# for X_var_name in x_var_names:\n",
        "#     if i > 0:\n",
        "#         lsdv_expr = lsdv_expr + ' + ' + X_var_name\n",
        "#     else:\n",
        "#         lsdv_expr = lsdv_expr + X_var_name\n",
        "#     i = i + 1\n",
        "# for dummy_name in unit_names[:-1]:\n",
        "#     lsdv_expr = lsdv_expr + ' + ' + dummy_name\n",
        "# for time_period in time_periods[:-1]:\n",
        "#     lsdv_expr = lsdv_expr + ' + ' + time_period\n",
        "\n",
        "\n",
        "# print('Regression expression for OLS with dummies=' + lsdv_expr)"
      ],
      "metadata": {
        "colab": {
          "base_uri": "https://localhost:8080/"
        },
        "id": "1f76qJwFlcZ9",
        "outputId": "e04c9a3d-d935-465c-f665-c16ca697adf3"
      },
      "execution_count": 66,
      "outputs": [
        {
          "output_type": "stream",
          "name": "stdout",
          "text": [
            "Regression expression for OLS with dummies=Fertility_Rate ~ GDP_Per_Capita + Homicide_Rate + Avg_Yrs_Education + Infant_Mortality + Life_Expectancy + Bangladesh + Chile + Ethiopia + Iran + Latvia + Namibia + Nauru + New_Zealand + Nicaragua + Niger + Norway + Panama + South_Korea + United_States + Venezuela + 1980 + 1981 + 1982 + 1983 + 1984 + 1985 + 1986 + 1987 + 1988 + 1989 + 1990 + 1991 + 1992 + 1993 + 1994 + 1995 + 1996 + 1997 + 1998 + 1999 + 2000 + 2001 + 2002 + 2003 + 2004 + 2005 + 2006 + 2007 + 2008 + 2009 + 2010 + 2011 + 2012 + 2013 + 2014 + 2015 + 2016 + 2017 + 2018 + 2019 + 2020 + 2021 + 2022\n"
          ]
        }
      ]
    },
    {
      "cell_type": "code",
      "source": [
        "# # build and train LSDV on panel w dummies\n",
        "# lsdv_model = smf.ols(formula=lsdv_expr, data=df_panel_w_dummies)\n",
        "# lsdv_model_results = lsdv_model.fit()\n",
        "# print(lsdv_model_results.summary())"
      ],
      "metadata": {
        "id": "5hkU1ToUl3h0"
      },
      "execution_count": null,
      "outputs": []
    },
    {
      "cell_type": "code",
      "source": [
        "import pandas as pd\n",
        "import statsmodels.formula.api as smf\n",
        "\n",
        "# Construct the formula with the correct dummy variable names\n",
        "lsdv_expr = y_var_name + ' ~ '\n",
        "i = 0\n",
        "for X_var_name in x_var_names:\n",
        "    if i > 0:\n",
        "        lsdv_expr = lsdv_expr + ' + ' + X_var_name\n",
        "    else:\n",
        "        lsdv_expr = lsdv_expr + X_var_name\n",
        "    i = i + 1\n",
        "\n",
        "# Include country dummies (excluding the last one for reference)\n",
        "for dummy_name in df_dummies.columns[:-1]:\n",
        "    lsdv_expr = lsdv_expr + ' + ' + dummy_name\n",
        "\n",
        "# Include year dummies (excluding the last one for reference)\n",
        "for dummy_name in time_period_dummies.columns[:-1]:\n",
        "    lsdv_expr = lsdv_expr + ' + ' + dummy_name  # No need for C() anymore\n",
        "\n",
        "print('Regression expression for OLS with dummies=' + lsdv_expr)\n",
        "\n",
        "# build and train LSDV on panel w dummies\n",
        "lsdv_model = smf.ols(formula=lsdv_expr, data=df_panel_w_dummies)\n",
        "lsdv_model_results = lsdv_model.fit()\n",
        "print(lsdv_model_results.summary())"
      ],
      "metadata": {
        "colab": {
          "base_uri": "https://localhost:8080/"
        },
        "id": "oaT7F9bJsUH1",
        "outputId": "d8b3427e-3d3a-401a-a61d-9825fa3b4f37"
      },
      "execution_count": 82,
      "outputs": [
        {
          "output_type": "stream",
          "name": "stdout",
          "text": [
            "Regression expression for OLS with dummies=Fertility_Rate ~ GDP_Per_Capita + Homicide_Rate + Avg_Yrs_Education + Infant_Mortality + Life_Expectancy + Bangladesh + Chile + Ethiopia + Iran + Latvia + Namibia + Nauru + New_Zealand + Nicaragua + Niger + Norway + Panama + South_Korea + United_States + Venezuela + Year_1980 + Year_1981 + Year_1982 + Year_1983 + Year_1984 + Year_1985 + Year_1986 + Year_1987 + Year_1988 + Year_1989 + Year_1990 + Year_1991 + Year_1992 + Year_1993 + Year_1994 + Year_1995 + Year_1996 + Year_1997 + Year_1998 + Year_1999 + Year_2000 + Year_2001 + Year_2002 + Year_2003 + Year_2004 + Year_2005 + Year_2006 + Year_2007 + Year_2008 + Year_2009 + Year_2010 + Year_2011 + Year_2012 + Year_2013 + Year_2014 + Year_2015 + Year_2016 + Year_2017 + Year_2018 + Year_2019 + Year_2020 + Year_2021 + Year_2022\n",
            "                            OLS Regression Results                            \n",
            "==============================================================================\n",
            "Dep. Variable:         Fertility_Rate   R-squared:                       0.962\n",
            "Model:                            OLS   Adj. R-squared:                  0.957\n",
            "Method:                 Least Squares   F-statistic:                     179.1\n",
            "Date:                Sun, 23 Mar 2025   Prob (F-statistic):          2.35e-256\n",
            "Time:                        20:36:11   Log-Likelihood:                -176.03\n",
            "No. Observations:                 469   AIC:                             470.1\n",
            "Df Residuals:                     410   BIC:                             714.9\n",
            "Df Model:                          58                                         \n",
            "Covariance Type:            nonrobust                                         \n",
            "=====================================================================================\n",
            "                        coef    std err          t      P>|t|      [0.025      0.975]\n",
            "-------------------------------------------------------------------------------------\n",
            "Intercept             3.0166      1.115      2.705      0.007       0.825       5.209\n",
            "GDP_Per_Capita     1.011e-05   2.68e-06      3.767      0.000    4.83e-06    1.54e-05\n",
            "Homicide_Rate         0.0122      0.005      2.475      0.014       0.003       0.022\n",
            "Avg_Yrs_Education    -0.4771      0.029    -16.426      0.000      -0.534      -0.420\n",
            "Infant_Mortality      0.1840      0.029      6.343      0.000       0.127       0.241\n",
            "Life_Expectancy       0.0411      0.017      2.437      0.015       0.008       0.074\n",
            "Bangladesh           -1.2907      0.150     -8.590      0.000      -1.586      -0.995\n",
            "Chile                -0.0306      0.162     -0.189      0.850      -0.348       0.287\n",
            "Ethiopia           2.408e-13   1.19e-12      0.202      0.840    -2.1e-12    2.58e-12\n",
            "Iran                 -0.1609      0.105     -1.530      0.127      -0.368       0.046\n",
            "Latvia                0.8913      0.159      5.613      0.000       0.579       1.204\n",
            "Namibia               0.4203      0.185      2.277      0.023       0.058       0.783\n",
            "Nauru              6.888e-14   1.28e-12      0.054      0.957   -2.44e-12    2.58e-12\n",
            "New_Zealand           0.8358      0.204      4.093      0.000       0.434       1.237\n",
            "Nicaragua            -0.3638      0.109     -3.349      0.001      -0.577      -0.150\n",
            "Niger                 1.0855      0.239      4.538      0.000       0.615       1.556\n",
            "Norway                0.2156      0.255      0.846      0.398      -0.286       0.717\n",
            "Panama                0.4639      0.156      2.968      0.003       0.157       0.771\n",
            "South_Korea           0.2013      0.166      1.214      0.225      -0.125       0.527\n",
            "United_States         1.2370      0.235      5.269      0.000       0.775       1.698\n",
            "Venezuela            -0.4883      0.205     -2.376      0.018      -0.892      -0.084\n",
            "Year_1980             0.1664      0.144      1.153      0.250      -0.117       0.450\n",
            "Year_1981             0.1847      0.142      1.305      0.193      -0.093       0.463\n",
            "Year_1982             0.1877      0.139      1.347      0.179      -0.086       0.462\n",
            "Year_1983             0.1705      0.138      1.236      0.217      -0.101       0.442\n",
            "Year_1984             0.1521      0.135      1.123      0.262      -0.114       0.418\n",
            "Year_1985             0.1438      0.134      1.076      0.283      -0.119       0.407\n",
            "Year_1986             0.1159      0.130      0.888      0.375      -0.141       0.372\n",
            "Year_1987             0.1044      0.128      0.813      0.417      -0.148       0.357\n",
            "Year_1988             0.0937      0.125      0.748      0.455      -0.153       0.340\n",
            "Year_1989             0.0920      0.123      0.748      0.455      -0.150       0.334\n",
            "Year_1990             0.0992      0.121      0.820      0.413      -0.139       0.337\n",
            "Year_1991             0.0782      0.119      0.655      0.513      -0.156       0.313\n",
            "Year_1992             0.0317      0.118      0.269      0.788      -0.199       0.263\n",
            "Year_1993             0.0014      0.117      0.012      0.990      -0.228       0.230\n",
            "Year_1994            -0.0221      0.115     -0.192      0.848      -0.249       0.204\n",
            "Year_1995            -0.0440      0.114     -0.386      0.700      -0.268       0.180\n",
            "Year_1996            -0.0454      0.113     -0.400      0.690      -0.268       0.178\n",
            "Year_1997            -0.0306      0.113     -0.270      0.787      -0.253       0.192\n",
            "Year_1998            -0.0087      0.113     -0.077      0.939      -0.232       0.214\n",
            "Year_1999             0.0190      0.114      0.167      0.868      -0.204       0.242\n",
            "Year_2000             0.0398      0.114      0.348      0.728      -0.185       0.265\n",
            "Year_2001             0.0373      0.115      0.324      0.746      -0.189       0.264\n",
            "Year_2002             0.0115      0.117      0.098      0.922      -0.219       0.242\n",
            "Year_2003             0.0294      0.118      0.248      0.804      -0.203       0.262\n",
            "Year_2004             0.0397      0.122      0.327      0.744      -0.199       0.279\n",
            "Year_2005             0.0433      0.125      0.346      0.730      -0.203       0.289\n",
            "Year_2006             0.0678      0.128      0.529      0.597      -0.184       0.320\n",
            "Year_2007             0.0876      0.133      0.660      0.510      -0.173       0.349\n",
            "Year_2008             0.0982      0.136      0.720      0.472      -0.170       0.366\n",
            "Year_2009             0.1264      0.137      0.920      0.358      -0.144       0.397\n",
            "Year_2010             0.1282      0.141      0.907      0.365      -0.150       0.406\n",
            "Year_2011             0.1140      0.145      0.784      0.433      -0.172       0.400\n",
            "Year_2012             0.1152      0.149      0.775      0.439      -0.177       0.407\n",
            "Year_2013             0.1036      0.151      0.686      0.493      -0.193       0.400\n",
            "Year_2014             0.1056      0.153      0.690      0.490      -0.195       0.406\n",
            "Year_2015             0.1470      0.148      0.994      0.321      -0.144       0.438\n",
            "Year_2016             0.1345      0.151      0.893      0.372      -0.162       0.431\n",
            "Year_2017             0.0814      0.154      0.528      0.598      -0.222       0.385\n",
            "Year_2018             0.0237      0.159      0.149      0.882      -0.289       0.336\n",
            "Year_2019            -0.0013      0.160     -0.008      0.993      -0.316       0.313\n",
            "Year_2020             0.0151      0.150      0.101      0.920      -0.280       0.310\n",
            "Year_2021            -0.0215      0.150     -0.143      0.886      -0.317       0.274\n",
            "Year_2022                  0          0        nan        nan           0           0\n",
            "==============================================================================\n",
            "Omnibus:                       38.788   Durbin-Watson:                   0.150\n",
            "Prob(Omnibus):                  0.000   Jarque-Bera (JB):              144.407\n",
            "Skew:                           0.243   Prob(JB):                     4.39e-32\n",
            "Kurtosis:                       5.675   Cond. No.                     1.30e+21\n",
            "==============================================================================\n",
            "\n",
            "Notes:\n",
            "[1] Standard Errors assume that the covariance matrix of the errors is correctly specified.\n",
            "[2] The smallest eigenvalue is 1.64e-31. This might indicate that there are\n",
            "strong multicollinearity problems or that the design matrix is singular.\n"
          ]
        }
      ]
    }
  ]
}