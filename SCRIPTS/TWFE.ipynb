{
  "nbformat": 4,
  "nbformat_minor": 0,
  "metadata": {
    "colab": {
      "provenance": [],
      "authorship_tag": "ABX9TyORJMra4bQaUoEJQVdl4sVl",
      "include_colab_link": true
    },
    "kernelspec": {
      "name": "python3",
      "display_name": "Python 3"
    },
    "language_info": {
      "name": "python"
    }
  },
  "cells": [
    {
      "cell_type": "markdown",
      "metadata": {
        "id": "view-in-github",
        "colab_type": "text"
      },
      "source": [
        "<a href=\"https://colab.research.google.com/github/vrhughes/DS4002-Project2/blob/main/SCRIPTS/TWFE.ipynb\" target=\"_parent\"><img src=\"https://colab.research.google.com/assets/colab-badge.svg\" alt=\"Open In Colab\"/></a>"
      ]
    },
    {
      "cell_type": "code",
      "execution_count": 1,
      "metadata": {
        "id": "n_8AKcCCQxPm"
      },
      "outputs": [],
      "source": [
        "# Importing\n",
        "import pandas as pd\n",
        "import numpy as np\n",
        "import re"
      ]
    },
    {
      "cell_type": "code",
      "source": [
        "# Cloning the repo\n",
        "! git clone https://github.com/vrhughes/DS4002-Project2"
      ],
      "metadata": {
        "colab": {
          "base_uri": "https://localhost:8080/"
        },
        "id": "Dx6DVZGjREWI",
        "outputId": "771c6b3a-2290-4d8d-f605-66461cdbd23e"
      },
      "execution_count": 2,
      "outputs": [
        {
          "output_type": "stream",
          "name": "stdout",
          "text": [
            "Cloning into 'DS4002-Project2'...\n",
            "remote: Enumerating objects: 108, done.\u001b[K\n",
            "remote: Counting objects: 100% (108/108), done.\u001b[K\n",
            "remote: Compressing objects: 100% (103/103), done.\u001b[K\n",
            "remote: Total 108 (delta 38), reused 0 (delta 0), pack-reused 0 (from 0)\u001b[K\n",
            "Receiving objects: 100% (108/108), 635.12 KiB | 3.40 MiB/s, done.\n",
            "Resolving deltas: 100% (38/38), done.\n"
          ]
        }
      ]
    },
    {
      "cell_type": "code",
      "source": [
        "# Reading in data\n",
        "#fr_analysis = pd.read_csv('/content/DS4002-Project2/OUTPUTS/fr_analysis_df.csv')\n",
        "interp = pd.read_csv('/content/DS4002-Project2/OUTPUTS/interpolated_education_dataset.csv')\n",
        "UN = pd.read_csv('/content/DS4002-Project2/DATA/fertility-rate-with-projections.csv')"
      ],
      "metadata": {
        "id": "pVidqGX7RMrm"
      },
      "execution_count": 4,
      "outputs": []
    },
    {
      "cell_type": "code",
      "source": [
        "# Getting dummies\n",
        "df_encoded = pd.get_dummies(interp, columns=['Country', 'Year'])"
      ],
      "metadata": {
        "id": "BcX11qYARrcU"
      },
      "execution_count": 5,
      "outputs": []
    },
    {
      "cell_type": "code",
      "source": [
        "df_encoded.head()\n",
        "print(df_encoded.columns)"
      ],
      "metadata": {
        "colab": {
          "base_uri": "https://localhost:8080/"
        },
        "id": "kIDgd_h0TE3m",
        "outputId": "fb5633ac-dfeb-470e-ea02-746750ec7efe"
      },
      "execution_count": 9,
      "outputs": [
        {
          "output_type": "stream",
          "name": "stdout",
          "text": [
            "Index(['Fertility_Rate', 'GDP_Per_Capita', 'Homicide_Rate',\n",
            "       'Avg_Yrs_Education', 'Infant_Mortality', 'Life_Expectancy',\n",
            "       'Country_Bangladesh', 'Country_Chile', 'Country_Ethiopia',\n",
            "       'Country_Iran', 'Country_Latvia', 'Country_Namibia', 'Country_Nauru',\n",
            "       'Country_New Zealand', 'Country_Nicaragua', 'Country_Niger',\n",
            "       'Country_Norway', 'Country_Panama', 'Country_South Korea',\n",
            "       'Country_United States', 'Country_Venezuela', 'Country_World',\n",
            "       'Year_1980', 'Year_1981', 'Year_1982', 'Year_1983', 'Year_1984',\n",
            "       'Year_1985', 'Year_1986', 'Year_1987', 'Year_1988', 'Year_1989',\n",
            "       'Year_1990', 'Year_1991', 'Year_1992', 'Year_1993', 'Year_1994',\n",
            "       'Year_1995', 'Year_1996', 'Year_1997', 'Year_1998', 'Year_1999',\n",
            "       'Year_2000', 'Year_2001', 'Year_2002', 'Year_2003', 'Year_2004',\n",
            "       'Year_2005', 'Year_2006', 'Year_2007', 'Year_2008', 'Year_2009',\n",
            "       'Year_2010', 'Year_2011', 'Year_2012', 'Year_2013', 'Year_2014',\n",
            "       'Year_2015', 'Year_2016', 'Year_2017', 'Year_2018', 'Year_2019',\n",
            "       'Year_2020', 'Year_2021', 'Year_2022', 'Year_2023'],\n",
            "      dtype='object')\n"
          ]
        }
      ]
    },
    {
      "cell_type": "markdown",
      "source": [
        "wow that's a lot of columns!"
      ],
      "metadata": {
        "id": "gOmfKJPgTMiX"
      }
    },
    {
      "cell_type": "code",
      "source": [
        "pip install linearmodels"
      ],
      "metadata": {
        "colab": {
          "base_uri": "https://localhost:8080/"
        },
        "id": "JLs7wu6Fb2jC",
        "outputId": "44ecd6f9-ec51-41fd-eff5-08f48c663616"
      },
      "execution_count": 15,
      "outputs": [
        {
          "output_type": "stream",
          "name": "stdout",
          "text": [
            "Collecting linearmodels\n",
            "  Downloading linearmodels-6.1-cp311-cp311-manylinux_2_17_x86_64.manylinux2014_x86_64.whl.metadata (7.9 kB)\n",
            "Requirement already satisfied: numpy<3,>=1.22.3 in /usr/local/lib/python3.11/dist-packages (from linearmodels) (2.0.2)\n",
            "Requirement already satisfied: pandas>=1.4.0 in /usr/local/lib/python3.11/dist-packages (from linearmodels) (2.2.2)\n",
            "Requirement already satisfied: scipy>=1.8.0 in /usr/local/lib/python3.11/dist-packages (from linearmodels) (1.14.1)\n",
            "Requirement already satisfied: statsmodels>=0.13.0 in /usr/local/lib/python3.11/dist-packages (from linearmodels) (0.14.4)\n",
            "Collecting mypy-extensions>=0.4 (from linearmodels)\n",
            "  Downloading mypy_extensions-1.0.0-py3-none-any.whl.metadata (1.1 kB)\n",
            "Requirement already satisfied: Cython>=3.0.10 in /usr/local/lib/python3.11/dist-packages (from linearmodels) (3.0.12)\n",
            "Collecting pyhdfe>=0.1 (from linearmodels)\n",
            "  Downloading pyhdfe-0.2.0-py3-none-any.whl.metadata (4.0 kB)\n",
            "Collecting formulaic>=1.0.0 (from linearmodels)\n",
            "  Downloading formulaic-1.1.1-py3-none-any.whl.metadata (6.9 kB)\n",
            "Collecting setuptools-scm<9.0.0,>=8.0.0 (from setuptools-scm[toml]<9.0.0,>=8.0.0->linearmodels)\n",
            "  Downloading setuptools_scm-8.2.0-py3-none-any.whl.metadata (6.8 kB)\n",
            "Collecting interface-meta>=1.2.0 (from formulaic>=1.0.0->linearmodels)\n",
            "  Downloading interface_meta-1.3.0-py3-none-any.whl.metadata (6.7 kB)\n",
            "Requirement already satisfied: typing-extensions>=4.2.0 in /usr/local/lib/python3.11/dist-packages (from formulaic>=1.0.0->linearmodels) (4.12.2)\n",
            "Requirement already satisfied: wrapt>=1.0 in /usr/local/lib/python3.11/dist-packages (from formulaic>=1.0.0->linearmodels) (1.17.2)\n",
            "Requirement already satisfied: python-dateutil>=2.8.2 in /usr/local/lib/python3.11/dist-packages (from pandas>=1.4.0->linearmodels) (2.8.2)\n",
            "Requirement already satisfied: pytz>=2020.1 in /usr/local/lib/python3.11/dist-packages (from pandas>=1.4.0->linearmodels) (2025.1)\n",
            "Requirement already satisfied: tzdata>=2022.7 in /usr/local/lib/python3.11/dist-packages (from pandas>=1.4.0->linearmodels) (2025.1)\n",
            "Requirement already satisfied: packaging>=20 in /usr/local/lib/python3.11/dist-packages (from setuptools-scm<9.0.0,>=8.0.0->setuptools-scm[toml]<9.0.0,>=8.0.0->linearmodels) (24.2)\n",
            "Requirement already satisfied: setuptools>=61 in /usr/local/lib/python3.11/dist-packages (from setuptools-scm<9.0.0,>=8.0.0->setuptools-scm[toml]<9.0.0,>=8.0.0->linearmodels) (75.1.0)\n",
            "Requirement already satisfied: patsy>=0.5.6 in /usr/local/lib/python3.11/dist-packages (from statsmodels>=0.13.0->linearmodels) (1.0.1)\n",
            "Requirement already satisfied: six>=1.5 in /usr/local/lib/python3.11/dist-packages (from python-dateutil>=2.8.2->pandas>=1.4.0->linearmodels) (1.17.0)\n",
            "Downloading linearmodels-6.1-cp311-cp311-manylinux_2_17_x86_64.manylinux2014_x86_64.whl (1.7 MB)\n",
            "\u001b[2K   \u001b[90m━━━━━━━━━━━━━━━━━━━━━━━━━━━━━━━━━━━━━━━━\u001b[0m \u001b[32m1.7/1.7 MB\u001b[0m \u001b[31m18.8 MB/s\u001b[0m eta \u001b[36m0:00:00\u001b[0m\n",
            "\u001b[?25hDownloading formulaic-1.1.1-py3-none-any.whl (115 kB)\n",
            "\u001b[2K   \u001b[90m━━━━━━━━━━━━━━━━━━━━━━━━━━━━━━━━━━━━━━━━\u001b[0m \u001b[32m115.7/115.7 kB\u001b[0m \u001b[31m9.8 MB/s\u001b[0m eta \u001b[36m0:00:00\u001b[0m\n",
            "\u001b[?25hDownloading mypy_extensions-1.0.0-py3-none-any.whl (4.7 kB)\n",
            "Downloading pyhdfe-0.2.0-py3-none-any.whl (19 kB)\n",
            "Downloading setuptools_scm-8.2.0-py3-none-any.whl (43 kB)\n",
            "\u001b[2K   \u001b[90m━━━━━━━━━━━━━━━━━━━━━━━━━━━━━━━━━━━━━━━━\u001b[0m \u001b[32m43.9/43.9 kB\u001b[0m \u001b[31m3.7 MB/s\u001b[0m eta \u001b[36m0:00:00\u001b[0m\n",
            "\u001b[?25hDownloading interface_meta-1.3.0-py3-none-any.whl (14 kB)\n",
            "Installing collected packages: setuptools-scm, mypy-extensions, interface-meta, pyhdfe, formulaic, linearmodels\n",
            "Successfully installed formulaic-1.1.1 interface-meta-1.3.0 linearmodels-6.1 mypy-extensions-1.0.0 pyhdfe-0.2.0 setuptools-scm-8.2.0\n"
          ]
        }
      ]
    },
    {
      "cell_type": "code",
      "source": [
        "# Importing for TWFE\n",
        "from matplotlib import style\n",
        "from matplotlib import pyplot as plt\n",
        "import statsmodels.formula.api as smf\n",
        "import graphviz as gr\n",
        "from linearmodels.panel import PanelOLS"
      ],
      "metadata": {
        "id": "ifq3HFCpTLbX"
      },
      "execution_count": 16,
      "outputs": []
    },
    {
      "cell_type": "code",
      "source": [
        "# Running linear regression on the covariates and the dummies\n",
        "twfe = PanelOLS.from_formula(\"Fertility_Rate ~ GDP_Per_Capita+Homicide_Rate+Avg_Yrs_Education+Infant_Mortality+Life_Expectancy+EntityEffects+TimeEffects\", data=interp.set_index([\"Country\", \"Year\"]))\n",
        "\n",
        "result = twfe.fit(cov_type = 'clustered', cluster_entity = True, cluster_time = True)\n",
        "result.summary.tables[1]"
      ],
      "metadata": {
        "colab": {
          "base_uri": "https://localhost:8080/",
          "height": 238
        },
        "id": "D0YWIeTeUMb2",
        "outputId": "dc806d77-3d05-42d9-bc6e-c0139e9b9f2d"
      },
      "execution_count": 23,
      "outputs": [
        {
          "output_type": "stream",
          "name": "stderr",
          "text": [
            "/usr/local/lib/python3.11/dist-packages/linearmodels/panel/model.py:1260: MissingValueWarning: \n",
            "Inputs contain missing values. Dropping rows with missing observations.\n",
            "  super().__init__(dependent, exog, weights=weights, check_rank=check_rank)\n"
          ]
        },
        {
          "output_type": "execute_result",
          "data": {
            "text/plain": [
              "<class 'statsmodels.iolib.table.SimpleTable'>"
            ],
            "text/html": [
              "<table class=\"simpletable\">\n",
              "<caption>Parameter Estimates</caption>\n",
              "<tr>\n",
              "          <td></td>          <th>Parameter</th> <th>Std. Err.</th> <th>T-stat</th>  <th>P-value</th> <th>Lower CI</th>  <th>Upper CI</th> \n",
              "</tr>\n",
              "<tr>\n",
              "  <th>GDP_Per_Capita</th>    <td>1.011e-05</td> <td>3.136e-06</td> <td>3.2240</td>  <td>0.0014</td>  <td>3.945e-06</td> <td>1.627e-05</td>\n",
              "</tr>\n",
              "<tr>\n",
              "  <th>Homicide_Rate</th>      <td>0.0122</td>    <td>0.0079</td>   <td>1.5409</td>  <td>0.1241</td>   <td>-0.0034</td>   <td>0.0278</td>  \n",
              "</tr>\n",
              "<tr>\n",
              "  <th>Avg_Yrs_Education</th>  <td>-0.4771</td>   <td>0.1624</td>   <td>-2.9385</td> <td>0.0035</td>   <td>-0.7962</td>   <td>-0.1579</td> \n",
              "</tr>\n",
              "<tr>\n",
              "  <th>Infant_Mortality</th>   <td>0.1840</td>    <td>0.0920</td>   <td>2.0006</td>  <td>0.0461</td>   <td>0.0032</td>    <td>0.3648</td>  \n",
              "</tr>\n",
              "<tr>\n",
              "  <th>Life_Expectancy</th>    <td>0.0411</td>    <td>0.0616</td>   <td>0.6675</td>  <td>0.5048</td>   <td>-0.0800</td>   <td>0.1622</td>  \n",
              "</tr>\n",
              "</table>"
            ],
            "text/latex": "\\begin{center}\n\\begin{tabular}{lcccccc}\n\\toprule\n                             & \\textbf{Parameter} & \\textbf{Std. Err.} & \\textbf{T-stat} & \\textbf{P-value} & \\textbf{Lower CI} & \\textbf{Upper CI}  \\\\\n\\midrule\n\\textbf{GDP\\_Per\\_Capita}    &     1.011e-05      &     3.136e-06      &      3.2240     &      0.0014      &     3.945e-06     &     1.627e-05      \\\\\n\\textbf{Homicide\\_Rate}      &       0.0122       &       0.0079       &      1.5409     &      0.1241      &      -0.0034      &       0.0278       \\\\\n\\textbf{Avg\\_Yrs\\_Education} &      -0.4771       &       0.1624       &     -2.9385     &      0.0035      &      -0.7962      &      -0.1579       \\\\\n\\textbf{Infant\\_Mortality}   &       0.1840       &       0.0920       &      2.0006     &      0.0461      &       0.0032      &       0.3648       \\\\\n\\textbf{Life\\_Expectancy}    &       0.0411       &       0.0616       &      0.6675     &      0.5048      &      -0.0800      &       0.1622       \\\\\n\\bottomrule\n\\end{tabular}\n%\\caption{Parameter Estimates}\n\\end{center}"
          },
          "metadata": {},
          "execution_count": 23
        }
      ]
    },
    {
      "cell_type": "code",
      "source": [
        "# Getting coefficients\n",
        "mod = smf.ols(formula='Fertility_Rate ~ GDP_Per_Capita+Homicide_Rate+Avg_Yrs_Education+Infant_Mortality+Life_Expectancy', data=interp).fit()\n",
        "mod.summary().tables[1]"
      ],
      "metadata": {
        "colab": {
          "base_uri": "https://localhost:8080/",
          "height": 168
        },
        "id": "gG5UaF8Rc81o",
        "outputId": "561f8a82-4d3d-49a4-a133-8528bf25d2e1"
      },
      "execution_count": 25,
      "outputs": [
        {
          "output_type": "execute_result",
          "data": {
            "text/plain": [
              "<class 'statsmodels.iolib.table.SimpleTable'>"
            ],
            "text/html": [
              "<table class=\"simpletable\">\n",
              "<tr>\n",
              "          <td></td>             <th>coef</th>     <th>std err</th>      <th>t</th>      <th>P>|t|</th>  <th>[0.025</th>    <th>0.975]</th>  \n",
              "</tr>\n",
              "<tr>\n",
              "  <th>Intercept</th>         <td>   11.7745</td> <td>    0.956</td> <td>   12.317</td> <td> 0.000</td> <td>    9.896</td> <td>   13.653</td>\n",
              "</tr>\n",
              "<tr>\n",
              "  <th>GDP_Per_Capita</th>    <td> 1.966e-05</td> <td>  2.1e-06</td> <td>    9.352</td> <td> 0.000</td> <td> 1.55e-05</td> <td> 2.38e-05</td>\n",
              "</tr>\n",
              "<tr>\n",
              "  <th>Homicide_Rate</th>     <td>    0.0075</td> <td>    0.004</td> <td>    2.019</td> <td> 0.044</td> <td>    0.000</td> <td>    0.015</td>\n",
              "</tr>\n",
              "<tr>\n",
              "  <th>Avg_Yrs_Education</th> <td>   -0.2365</td> <td>    0.023</td> <td>  -10.307</td> <td> 0.000</td> <td>   -0.282</td> <td>   -0.191</td>\n",
              "</tr>\n",
              "<tr>\n",
              "  <th>Infant_Mortality</th>  <td>    0.0248</td> <td>    0.035</td> <td>    0.711</td> <td> 0.477</td> <td>   -0.044</td> <td>    0.094</td>\n",
              "</tr>\n",
              "<tr>\n",
              "  <th>Life_Expectancy</th>   <td>   -0.1022</td> <td>    0.013</td> <td>   -7.929</td> <td> 0.000</td> <td>   -0.127</td> <td>   -0.077</td>\n",
              "</tr>\n",
              "</table>"
            ],
            "text/latex": "\\begin{center}\n\\begin{tabular}{lcccccc}\n\\toprule\n                             & \\textbf{coef} & \\textbf{std err} & \\textbf{t} & \\textbf{P$> |$t$|$} & \\textbf{[0.025} & \\textbf{0.975]}  \\\\\n\\midrule\n\\textbf{Intercept}           &      11.7745  &        0.956     &    12.317  &         0.000        &        9.896    &       13.653     \\\\\n\\textbf{GDP\\_Per\\_Capita}    &    1.966e-05  &      2.1e-06     &     9.352  &         0.000        &     1.55e-05    &     2.38e-05     \\\\\n\\textbf{Homicide\\_Rate}      &       0.0075  &        0.004     &     2.019  &         0.044        &        0.000    &        0.015     \\\\\n\\textbf{Avg\\_Yrs\\_Education} &      -0.2365  &        0.023     &   -10.307  &         0.000        &       -0.282    &       -0.191     \\\\\n\\textbf{Infant\\_Mortality}   &       0.0248  &        0.035     &     0.711  &         0.477        &       -0.044    &        0.094     \\\\\n\\textbf{Life\\_Expectancy}    &      -0.1022  &        0.013     &    -7.929  &         0.000        &       -0.127    &       -0.077     \\\\\n\\bottomrule\n\\end{tabular}\n\\end{center}"
          },
          "metadata": {},
          "execution_count": 25
        }
      ]
    },
    {
      "cell_type": "code",
      "source": [
        "twfe_toy = df_encoded.assign(y_hat = twfe.fittedvalues)\n",
        "\n",
        "plt.scatter(df_encoded.Year)"
      ],
      "metadata": {
        "id": "RZ454bOSaIXT"
      },
      "execution_count": null,
      "outputs": []
    },
    {
      "cell_type": "markdown",
      "source": [
        "Try second"
      ],
      "metadata": {
        "id": "E4RUvlO2bHKa"
      }
    },
    {
      "cell_type": "code",
      "source": [],
      "metadata": {
        "id": "n9cUXQCjbGw0"
      },
      "execution_count": null,
      "outputs": []
    }
  ]
}