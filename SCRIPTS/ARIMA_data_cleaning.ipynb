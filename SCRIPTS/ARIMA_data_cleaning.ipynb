{
  "nbformat": 4,
  "nbformat_minor": 0,
  "metadata": {
    "colab": {
      "provenance": []
    },
    "kernelspec": {
      "name": "python3",
      "display_name": "Python 3"
    },
    "language_info": {
      "name": "python"
    }
  },
  "cells": [
    {
      "cell_type": "code",
      "execution_count": null,
      "metadata": {
        "colab": {
          "base_uri": "https://localhost:8080/"
        },
        "id": "6s1uEjPuIuaZ",
        "outputId": "c65f5e93-f895-4fc0-a1a9-aa7fd87ab8d1"
      },
      "outputs": [
        {
          "output_type": "stream",
          "name": "stdout",
          "text": [
            "       Country  Year  Fertility_Rate GDP_Per_Capita  Homicide_Rate  \\\n",
            "27  Bangladesh  1980           6.326    206.0757143       1.672038   \n",
            "28  Bangladesh  1981           6.237    224.2413924       1.829637   \n",
            "29  Bangladesh  1982           6.118    199.5959446       1.987816   \n",
            "30  Bangladesh  1983           5.906    184.7067729       2.170414   \n",
            "31  Bangladesh  1984           5.732     193.435021       2.442022   \n",
            "\n",
            "    Avg_Yrs_Education  Infant_Mortality  Life_Expectancy  \n",
            "27               1.31         13.789642          52.2778  \n",
            "28                NaN         13.472392          52.6383  \n",
            "29                NaN         13.139923          53.0119  \n",
            "30                NaN         12.788301          53.4409  \n",
            "31                NaN         12.423361          53.8259  \n"
          ]
        }
      ],
      "source": [
        "## Filter data to make it from 1980 onwards\n",
        "import pandas as pd\n",
        "file_path = \"/content/fr_analysis_df.csv\"\n",
        "df = pd.read_csv(file_path)\n",
        "\n",
        "# filter the year\n",
        "df_filtered = df[df[\"Year\"] >= 1980]\n",
        "\n",
        "df_filtered.to_csv(\"filered_years_dataset.csv\", index=False)\n",
        "\n",
        "print(df_filtered.head())"
      ]
    },
    {
      "cell_type": "code",
      "source": [
        "import pandas as pd\n",
        "\n",
        "file_path = \"/content/filered_years_dataset.csv\"\n",
        "df = pd.read_csv(file_path)\n",
        "\n",
        "# convert 'GDP_Per_Capita' to numeric values\n",
        "df['GDP_Per_Capita'] = pd.to_numeric(df['GDP_Per_Capita'], errors='coerce')\n",
        "\n",
        "# sort data\n",
        "df = df.sort_values(by=['Country', 'Year']).reset_index(drop=True)\n",
        "\n",
        "# applying linear interpolation for 'Avg_Yrs_Education' within each country\n",
        "df[\"Avg_Yrs_Education\"] = df.groupby(\"Country\", group_keys=False)[\"Avg_Yrs_Education\"].apply(lambda x: x.interpolate(method='linear'))\n",
        "\n",
        "# fill in any remaining missing values\n",
        "df[\"Avg_Yrs_Education\"] = df.groupby(\"Country\", group_keys=False)[\"Avg_Yrs_Education\"].fillna(method='ffill')\n",
        "\n",
        "# checking\n",
        "print(\"Remaining missing values:\", df[\"Avg_Yrs_Education\"].isnull().sum())\n",
        "\n",
        "# save the new dataset\n",
        "df.to_csv(\"interpolated_education_dataset.csv\", index=False)\n",
        "\n",
        "# confirm changes\n",
        "print(df.head())\n"
      ],
      "metadata": {
        "colab": {
          "base_uri": "https://localhost:8080/"
        },
        "id": "rlR8vy4PZTXb",
        "outputId": "57e50094-aa9c-4f96-a9fe-7778d0ed3ac9"
      },
      "execution_count": 2,
      "outputs": [
        {
          "output_type": "stream",
          "name": "stdout",
          "text": [
            "Remaining missing values: 202\n",
            "      Country  Year  Fertility_Rate  GDP_Per_Capita  Homicide_Rate  \\\n",
            "0  Bangladesh  1980           6.326      206.075714       1.672038   \n",
            "1  Bangladesh  1981           6.237      224.241392       1.829637   \n",
            "2  Bangladesh  1982           6.118      199.595945       1.987816   \n",
            "3  Bangladesh  1983           5.906      184.706773       2.170414   \n",
            "4  Bangladesh  1984           5.732      193.435021       2.442022   \n",
            "\n",
            "   Avg_Yrs_Education  Infant_Mortality  Life_Expectancy  \n",
            "0              1.310         13.789642          52.2778  \n",
            "1              1.436         13.472392          52.6383  \n",
            "2              1.562         13.139923          53.0119  \n",
            "3              1.688         12.788301          53.4409  \n",
            "4              1.814         12.423361          53.8259  \n"
          ]
        },
        {
          "output_type": "stream",
          "name": "stderr",
          "text": [
            "<ipython-input-2-b511155cc96e>:16: FutureWarning: SeriesGroupBy.fillna is deprecated and will be removed in a future version. Use obj.ffill() or obj.bfill() for forward or backward filling instead. If you want to fill with a single value, use Series.fillna instead\n",
            "  df[\"Avg_Yrs_Education\"] = df.groupby(\"Country\", group_keys=False)[\"Avg_Yrs_Education\"].fillna(method='ffill')\n",
            "<ipython-input-2-b511155cc96e>:16: FutureWarning: Series.fillna with 'method' is deprecated and will raise in a future version. Use obj.ffill() or obj.bfill() instead.\n",
            "  df[\"Avg_Yrs_Education\"] = df.groupby(\"Country\", group_keys=False)[\"Avg_Yrs_Education\"].fillna(method='ffill')\n"
          ]
        }
      ]
    }
  ]
}